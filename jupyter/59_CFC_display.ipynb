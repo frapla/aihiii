{
 "cells": [
  {
   "cell_type": "code",
   "execution_count": null,
   "metadata": {},
   "outputs": [],
   "source": [
    "import os\n",
    "import sys\n",
    "from collections import defaultdict\n",
    "from pathlib import Path\n",
    "from typing import Dict, List, Literal, Optional, Tuple, Union\n",
    "\n",
    "import IPython\n",
    "import matplotlib.pyplot as plt\n",
    "import numpy as np\n",
    "import pandas as pd\n",
    "import seaborn as sns\n",
    "import logging\n",
    "from IPython.display import display\n",
    "from matplotlib.axes import Axes as Axes\n",
    "\n",
    "notebook_path = Path(IPython.extract_module_locals()[1][\"__vsc_ipynb_file__\"])\n",
    "project_dir = notebook_path.parent.parent\n",
    "sys.path.append(str(project_dir))\n",
    "import src.utils.custom_log as custom_log\n",
    "from src.utils.Csv import Csv\n",
    "from src.utils.iso18571 import rating_iso_18571\n",
    "from src.utils.set_rcparams import set_rcparams\n",
    "from src.utils.UnifySignal import UnifySignal\n",
    "\n",
    "os.chdir(project_dir)\n",
    "LOG = logging.getLogger(__name__)\n",
    "custom_log.init_logger(log_lvl=logging.INFO)\n",
    "LOG.info(\"Log initialized\")\n",
    "\n",
    "set_rcparams()"
   ]
  },
  {
   "cell_type": "code",
   "execution_count": null,
   "metadata": {},
   "outputs": [],
   "source": [
    "B_PATH: Path = Path(\"/mnt\") /\"q\" / \"Val_Chain_Sims\" / \"AB_Testing\"\n",
    "B_PATH.is_dir()"
   ]
  },
  {
   "cell_type": "code",
   "execution_count": null,
   "metadata": {},
   "outputs": [],
   "source": [
    "# read report data\n",
    "CSV = Csv(csv_path=B_PATH / \"From_Reports\" / \"report_data.csv.csv.zip\", compress=True)\n",
    "DB_REPORT: pd.DataFrame = CSV.read()\n",
    "REPORT_ASS = [\"HW TH Report\", \"CAE TH Report\"]\n",
    "DB_REPORT.replace({\"CAE NHTSA\": REPORT_ASS[1], \"Test NHTSA\": REPORT_ASS[0]}, inplace=True)\n",
    "#DB_REPORT.fillna(0, inplace=True)\n",
    "display(DB_REPORT)"
   ]
  },
  {
   "cell_type": "code",
   "execution_count": null,
   "metadata": {},
   "outputs": [],
   "source": [
    "# read Other Data\n",
    "DB_CAES: List[pd.DataFrame] = []\n",
    "CASES: List[str] = [\n",
    "    \"000_Base_Model\",\n",
    "    \"100_Guided_BIW\",\n",
    "    \"200_PAB_Simplified\",\n",
    "    \"300_Seat_Simplified\",\n",
    "    \"400_HIII\",\n",
    "    \"500_NoCAB\",\n",
    "    \"600_NoDoor\",\n",
    "    \"700_Simplified_Belt\",\n",
    "    \"800_Simplified_BIW\",\n",
    "    \"900_NoIntrusion\",\n",
    "    \"950_Dash_Rigid\",\n",
    "    \"990_Carpet_Rigid\",\n",
    "]\n",
    "for case in CASES:\n",
    "    LOG.info(\"Read %s\", case)\n",
    "\n",
    "    CSV = Csv(csv_path=B_PATH / case / f\"extracted.csv.zip\", compress=True)\n",
    "    DB_CAES.append(CSV.read())\n",
    "\n",
    "\n",
    "    DB_CAES[-1].replace(\n",
    "        {\"Assemblies_1\": \"SP 48\", \"Assemblies_2\": \"DP 48\", \"Assemblies_3\": \"SP 96\", \"Assemblies_4\": \"DP 96\"}, inplace=True\n",
    "    )\n",
    "\n",
    "    DB_CAES[-1].fillna(0, inplace=True)"
   ]
  },
  {
   "cell_type": "code",
   "execution_count": null,
   "metadata": {},
   "outputs": [],
   "source": [
    "DB_CAES[0]"
   ]
  },
  {
   "cell_type": "code",
   "execution_count": null,
   "metadata": {},
   "outputs": [],
   "source": [
    "[x for x in DB_CAES[0][\"Channel\"].unique() if \"03HEAD0000TH50ACR\" in x]"
   ]
  },
  {
   "cell_type": "code",
   "execution_count": null,
   "metadata": {},
   "outputs": [],
   "source": [
    "[x for x in DB_REPORT[\"Channel\"].unique() if \"03HEAD0000TH50ACR\" in x]"
   ]
  },
  {
   "cell_type": "code",
   "execution_count": null,
   "metadata": {},
   "outputs": [],
   "source": [
    "def plot():\n",
    "    ch_name = \"01HEAD0000TH50ACR\"\n",
    "    case = \"Oblique Right\"\n",
    "    cs = {\"HW TH Report\": \"black\", \"CAE TH Report\": \"blue\", \"CAE New\": \"orange\"}\n",
    "    names = {\n",
    "        \"HW TH Report\": \"Hardware-model Report (Singh et al. 2018a)\",\n",
    "        \"CAE TH Report\": \"FE-model Report (Singh et al. 2018a)\",\n",
    "    }\n",
    "    cfc_classes = {\"D\": 60, \"B\": 600, \"C\": 180}\n",
    "    fig_width: float = 1 * (448.13095 / 72) -0.2\n",
    "    fig_height: float = 0.4 * fig_width\n",
    "    filters = [\"B\", \"C\", \"D\"]\n",
    "    fig, ax = plt.subplot_mosaic(\n",
    "        mosaic=[[\"L\", \"L\", \"L\"], [\"B\", \"C\", \"D\"]],\n",
    "        layout=\"constrained\",\n",
    "        height_ratios=[0.1, 1],\n",
    "    )\n",
    "\n",
    "    for cfc in filters:\n",
    "        db = DB_CAES[0][\n",
    "            DB_CAES[0][\"Channel\"].eq(f\"{ch_name}{cfc}\") & DB_CAES[0][\"Case\"].eq(case) & DB_CAES[0][\"Assembly\"].eq(\"SP 48\")\n",
    "        ]\n",
    "        ax[cfc].plot(db[\"Time\"], db[\"Value\"], label=\"FE-model Initial with CFC 60-600\", c=cs[\"CAE New\"], alpha=1)\n",
    "\n",
    "        for source in DB_REPORT[\"Source\"].unique():\n",
    "            db = DB_REPORT[DB_REPORT[\"Channel\"].eq(f\"{ch_name}D\") & DB_REPORT[\"Source\"].eq(source) & DB_REPORT[\"Case\"].eq(case)]\n",
    "            ax[cfc].plot(db[\"Time\"], db[\"Value\"], label=names[source], c=cs[source], alpha=0.7)\n",
    "\n",
    "        ax[cfc].set_title(f\"{cfc} - CFC {cfc_classes[cfc]}\")\n",
    "        ax[cfc].set_xlabel(\"Time [ms]\")\n",
    "        ax[cfc].grid()\n",
    "        ax[cfc].set_xlim(0, 130)\n",
    "        ax[cfc].set_xticks(np.arange(0, 121, 20))\n",
    "        ax[cfc].set_ylim(0, 80)\n",
    "\n",
    "    ax[\"L\"].legend(*ax[filters[0]].get_legend_handles_labels(), loc=\"center\", ncol=2)\n",
    "    ax[\"L\"].axis(\"off\")\n",
    "    ax[filters[0]].set_ylabel(ch_name, {\"fontname\": \"CMU Typewriter Text\", \"fontsize\": \"large\", \"fontweight\": \"bold\"})\n",
    "    fig.set_figheight(fig_height)\n",
    "    fig.set_figwidth(fig_width)\n",
    "    fig.savefig(Path(\"reports\") / \"CFC_comp.pdf\")\n",
    "\n",
    "\n",
    "plot()"
   ]
  },
  {
   "cell_type": "code",
   "execution_count": null,
   "metadata": {},
   "outputs": [],
   "source": []
  }
 ],
 "metadata": {
  "kernelspec": {
   "display_name": ".venv",
   "language": "python",
   "name": "python3"
  },
  "language_info": {
   "codemirror_mode": {
    "name": "ipython",
    "version": 3
   },
   "file_extension": ".py",
   "mimetype": "text/x-python",
   "name": "python",
   "nbconvert_exporter": "python",
   "pygments_lexer": "ipython3",
   "version": "3.11.0"
  }
 },
 "nbformat": 4,
 "nbformat_minor": 2
}
