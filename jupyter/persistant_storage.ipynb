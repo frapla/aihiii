{
 "cells": [
  {
   "cell_type": "code",
   "execution_count": 1,
   "metadata": {},
   "outputs": [],
   "source": [
    "import json\n",
    "import os\n",
    "import pickle\n",
    "from pathlib import Path\n",
    "from time import time\n",
    "from typing import List\n",
    "\n",
    "import numpy as np\n",
    "import pandas as pd\n",
    "import pyarrow as pa\n",
    "import pyarrow.parquet as pq"
   ]
  },
  {
   "cell_type": "code",
   "execution_count": 2,
   "metadata": {},
   "outputs": [],
   "source": [
    "FNAME: str = \"test_data\"\n",
    "F_ENDINGS: List[str] = [\"csv\", \"json\", \"parquet\", \"pickle\"]"
   ]
  },
  {
   "cell_type": "code",
   "execution_count": null,
   "metadata": {},
   "outputs": [],
   "source": [
    "RNG = np.random.default_rng(42)\n",
    "DATA_NP: np.array = RNG.random((10000, 10000))\n",
    "DATA_NP"
   ]
  },
  {
   "cell_type": "code",
   "execution_count": null,
   "metadata": {},
   "outputs": [],
   "source": [
    "DATA_DF: pd.DataFrame = pd.DataFrame(DATA_NP)\n",
    "DATA_DF"
   ]
  },
  {
   "cell_type": "code",
   "execution_count": null,
   "metadata": {},
   "outputs": [],
   "source": [
    "DATA_PQ = pa.Table.from_pandas(DATA_DF)\n",
    "DATA_PQ"
   ]
  },
  {
   "cell_type": "code",
   "execution_count": null,
   "metadata": {},
   "outputs": [],
   "source": [
    "f_path = Path(f\"{FNAME}.bin\")\n",
    "\n",
    "tic = time()\n",
    "with open(f_path, \"wb\") as f:\n",
    "    np.save(f, DATA_NP)\n",
    "print(f\"Write NPY: {time()-tic:.3f} s\")\n",
    "\n",
    "tic = time()\n",
    "with open(f_path, \"rb\") as f:\n",
    "    np.load(f)\n",
    "print(f\"Read NPY: {time()-tic:.3f} s\")\n",
    "\n",
    "print(\"File Size is :\", f\"{os.path.getsize(f_path)/1024/1024/1024:.2f}\", \"GB\")\n",
    "f_path.unlink()"
   ]
  },
  {
   "cell_type": "code",
   "execution_count": null,
   "metadata": {},
   "outputs": [],
   "source": [
    "f_path = Path(f\"{FNAME}.csv\")\n",
    "\n",
    "tic = time()\n",
    "DATA_DF.to_csv(f_path)\n",
    "print(f\"Write CSV: {time()-tic:.3f} s\")\n",
    "\n",
    "tic = time()\n",
    "pd.read_csv(f_path)\n",
    "print(f\"Read CSV: {time()-tic:.3f} s\")\n",
    "\n",
    "print(\"File Size is :\", f\"{os.path.getsize(f_path)/1024/1024/1024:.2f}\", \"GB\")\n",
    "f_path.unlink()"
   ]
  },
  {
   "cell_type": "code",
   "execution_count": null,
   "metadata": {},
   "outputs": [],
   "source": [
    "f_path = Path(f\"{FNAME}.json\")\n",
    "\n",
    "tic = time()\n",
    "DATA_DF.to_json(f_path)\n",
    "print(f\"Write JSON: {time()-tic:.3f} s\")\n",
    "\n",
    "tic = time()\n",
    "with open(f_path) as f:\n",
    "    json.load(f)\n",
    "print(f\"Read JSON: {time()-tic:.3f} s\")\n",
    "\n",
    "print(\"File Size is :\", f\"{os.path.getsize(f_path)/1024/1024/1024:.2f}\", \"GB\")\n",
    "f_path.unlink()"
   ]
  },
  {
   "cell_type": "code",
   "execution_count": null,
   "metadata": {},
   "outputs": [],
   "source": [
    "f_path = Path(f\"{FNAME}.pickle\")\n",
    "\n",
    "tic = time()\n",
    "DATA_DF.to_pickle(f_path)\n",
    "print(f\"Write PICKLE: {time()-tic:.3f} s\")\n",
    "\n",
    "tic = time()\n",
    "with open(f_path, \"rb\") as f:\n",
    "    pickle.load(f)\n",
    "print(f\"Read PICKLE: {time()-tic:.3f} s\")\n",
    "\n",
    "print(\"File Size is :\", f\"{os.path.getsize(f_path)/1024/1024/1024:.2f}\", \"GB\")\n",
    "f_path.unlink()"
   ]
  },
  {
   "cell_type": "code",
   "execution_count": null,
   "metadata": {},
   "outputs": [],
   "source": [
    "f_path = Path(f\"{FNAME}.parquet\")\n",
    "\n",
    "tic = time()\n",
    "pq.write_table(DATA_PQ, f_path)\n",
    "print(f\"Write parquet: {time()-tic:.3f} s\")\n",
    "\n",
    "tic = time()\n",
    "pq.read_table(f_path)\n",
    "print(f\"Read parquet: {time()-tic:.3f} s\")\n",
    "\n",
    "print(\"File Size is :\", f\"{os.path.getsize(f_path)/1024/1024/1024:.2f}\", \"GB\")\n",
    "f_path.unlink()"
   ]
  },
  {
   "cell_type": "code",
   "execution_count": null,
   "metadata": {},
   "outputs": [],
   "source": []
  }
 ],
 "metadata": {
  "kernelspec": {
   "display_name": ".venv",
   "language": "python",
   "name": "python3"
  },
  "language_info": {
   "codemirror_mode": {
    "name": "ipython",
    "version": 3
   },
   "file_extension": ".py",
   "mimetype": "text/x-python",
   "name": "python",
   "nbconvert_exporter": "python",
   "pygments_lexer": "ipython3",
   "version": "3.11.0rc1"
  }
 },
 "nbformat": 4,
 "nbformat_minor": 2
}
