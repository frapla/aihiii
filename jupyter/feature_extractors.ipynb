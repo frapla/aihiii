{
 "cells": [
  {
   "cell_type": "code",
   "execution_count": 37,
   "metadata": {},
   "outputs": [],
   "source": [
    "import pandas as pd\n",
    "import sktime\n",
    "from pathlib import Path\n",
    "import numpy as np\n",
    "from sklearn.preprocessing import RobustScaler"
   ]
  },
  {
   "cell_type": "code",
   "execution_count": 5,
   "metadata": {},
   "outputs": [
    {
     "data": {
      "text/plain": [
       "True"
      ]
     },
     "execution_count": 5,
     "metadata": {},
     "output_type": "execute_result"
    }
   ],
   "source": [
    "D_PATH = Path(\"/root\") / \"py_projects\"/ \"aihiii\" / \"data\" / \"doe\" / \"doe_sobol_test_20240829_135200\"\n",
    "CH_PATH = D_PATH / \"channels.parquet\"\n",
    "CH_PATH.is_file()"
   ]
  },
  {
   "cell_type": "code",
   "execution_count": 41,
   "metadata": {},
   "outputs": [
    {
     "data": {
      "text/plain": [
       "(3, 32, 1401)"
      ]
     },
     "execution_count": 41,
     "metadata": {},
     "output_type": "execute_result"
    }
   ],
   "source": [
    "DB = pd.read_parquet(CH_PATH, filters=[(\"PERC\", \"in\", [5]), (\"ID\", \"in\", [0,2,4])]).droplevel(\"PERC\").sort_index()\n",
    "DB = np.array(np.split(DB.values, 1401, axis=0)).transpose(1, 2, 0)\n",
    "DB.shape"
   ]
  },
  {
   "cell_type": "code",
   "execution_count": null,
   "metadata": {},
   "outputs": [
    {
     "data": {
      "text/html": [
       "<div>\n",
       "<style scoped>\n",
       "    .dataframe tbody tr th:only-of-type {\n",
       "        vertical-align: middle;\n",
       "    }\n",
       "\n",
       "    .dataframe tbody tr th {\n",
       "        vertical-align: top;\n",
       "    }\n",
       "\n",
       "    .dataframe thead th {\n",
       "        text-align: right;\n",
       "    }\n",
       "</style>\n",
       "<table border=\"1\" class=\"dataframe\">\n",
       "  <thead>\n",
       "    <tr style=\"text-align: right;\">\n",
       "      <th></th>\n",
       "      <th>var_0__0</th>\n",
       "      <th>var_0__1</th>\n",
       "      <th>var_0__2</th>\n",
       "      <th>var_0__3</th>\n",
       "      <th>var_0__4</th>\n",
       "      <th>var_0__5</th>\n",
       "      <th>var_0__6</th>\n",
       "      <th>var_0__7</th>\n",
       "      <th>var_0__8</th>\n",
       "      <th>var_0__9</th>\n",
       "      <th>...</th>\n",
       "      <th>var_31__12</th>\n",
       "      <th>var_31__13</th>\n",
       "      <th>var_31__14</th>\n",
       "      <th>var_31__15</th>\n",
       "      <th>var_31__16</th>\n",
       "      <th>var_31__17</th>\n",
       "      <th>var_31__18</th>\n",
       "      <th>var_31__19</th>\n",
       "      <th>var_31__20</th>\n",
       "      <th>var_31__21</th>\n",
       "    </tr>\n",
       "    <tr>\n",
       "      <th>instances</th>\n",
       "      <th></th>\n",
       "      <th></th>\n",
       "      <th></th>\n",
       "      <th></th>\n",
       "      <th></th>\n",
       "      <th></th>\n",
       "      <th></th>\n",
       "      <th></th>\n",
       "      <th></th>\n",
       "      <th></th>\n",
       "      <th></th>\n",
       "      <th></th>\n",
       "      <th></th>\n",
       "      <th></th>\n",
       "      <th></th>\n",
       "      <th></th>\n",
       "      <th></th>\n",
       "      <th></th>\n",
       "      <th></th>\n",
       "      <th></th>\n",
       "      <th></th>\n",
       "    </tr>\n",
       "  </thead>\n",
       "  <tbody>\n",
       "    <tr>\n",
       "      <th>0</th>\n",
       "      <td>3.801046</td>\n",
       "      <td>5.698746</td>\n",
       "      <td>465.0</td>\n",
       "      <td>0.078515</td>\n",
       "      <td>NaN</td>\n",
       "      <td>189.0</td>\n",
       "      <td>506.0</td>\n",
       "      <td>152.959448</td>\n",
       "      <td>0.006136</td>\n",
       "      <td>0.213806</td>\n",
       "      <td>...</td>\n",
       "      <td>40.0</td>\n",
       "      <td>0.387857</td>\n",
       "      <td>465.0</td>\n",
       "      <td>1.123134</td>\n",
       "      <td>0.598684</td>\n",
       "      <td>5.802268</td>\n",
       "      <td>0.541667</td>\n",
       "      <td>0.791667</td>\n",
       "      <td>0.062500</td>\n",
       "      <td>NaN</td>\n",
       "    </tr>\n",
       "    <tr>\n",
       "      <th>1</th>\n",
       "      <td>5.143229</td>\n",
       "      <td>2.574615</td>\n",
       "      <td>459.0</td>\n",
       "      <td>0.044254</td>\n",
       "      <td>NaN</td>\n",
       "      <td>189.0</td>\n",
       "      <td>494.0</td>\n",
       "      <td>223.877612</td>\n",
       "      <td>0.006136</td>\n",
       "      <td>0.294698</td>\n",
       "      <td>...</td>\n",
       "      <td>40.0</td>\n",
       "      <td>0.420714</td>\n",
       "      <td>390.0</td>\n",
       "      <td>1.127245</td>\n",
       "      <td>0.790984</td>\n",
       "      <td>4.894206</td>\n",
       "      <td>0.583333</td>\n",
       "      <td>0.833333</td>\n",
       "      <td>0.053333</td>\n",
       "      <td>NaN</td>\n",
       "    </tr>\n",
       "    <tr>\n",
       "      <th>2</th>\n",
       "      <td>5.909656</td>\n",
       "      <td>2.957427</td>\n",
       "      <td>542.0</td>\n",
       "      <td>0.035689</td>\n",
       "      <td>NaN</td>\n",
       "      <td>199.0</td>\n",
       "      <td>511.0</td>\n",
       "      <td>374.817026</td>\n",
       "      <td>0.006136</td>\n",
       "      <td>0.379205</td>\n",
       "      <td>...</td>\n",
       "      <td>40.0</td>\n",
       "      <td>0.564286</td>\n",
       "      <td>403.0</td>\n",
       "      <td>1.119024</td>\n",
       "      <td>1.117188</td>\n",
       "      <td>3.488255</td>\n",
       "      <td>0.583333</td>\n",
       "      <td>0.875000</td>\n",
       "      <td>0.066667</td>\n",
       "      <td>NaN</td>\n",
       "    </tr>\n",
       "  </tbody>\n",
       "</table>\n",
       "<p>3 rows × 704 columns</p>\n",
       "</div>"
      ],
      "text/plain": [
       "           var_0__0  var_0__1  var_0__2  var_0__3  var_0__4  var_0__5  \\\n",
       "instances                                                               \n",
       "0          3.801046  5.698746     465.0  0.078515       NaN     189.0   \n",
       "1          5.143229  2.574615     459.0  0.044254       NaN     189.0   \n",
       "2          5.909656  2.957427     542.0  0.035689       NaN     199.0   \n",
       "\n",
       "           var_0__6    var_0__7  var_0__8  var_0__9  ...  var_31__12  \\\n",
       "instances                                            ...               \n",
       "0             506.0  152.959448  0.006136  0.213806  ...        40.0   \n",
       "1             494.0  223.877612  0.006136  0.294698  ...        40.0   \n",
       "2             511.0  374.817026  0.006136  0.379205  ...        40.0   \n",
       "\n",
       "           var_31__13  var_31__14  var_31__15  var_31__16  var_31__17  \\\n",
       "instances                                                               \n",
       "0            0.387857       465.0    1.123134    0.598684    5.802268   \n",
       "1            0.420714       390.0    1.127245    0.790984    4.894206   \n",
       "2            0.564286       403.0    1.119024    1.117188    3.488255   \n",
       "\n",
       "           var_31__18  var_31__19  var_31__20  var_31__21  \n",
       "instances                                                  \n",
       "0            0.541667    0.791667    0.062500         NaN  \n",
       "1            0.583333    0.833333    0.053333         NaN  \n",
       "2            0.583333    0.875000    0.066667         NaN  \n",
       "\n",
       "[3 rows x 704 columns]"
      ]
     },
     "execution_count": 50,
     "metadata": {},
     "output_type": "execute_result"
    }
   ],
   "source": [
    "# needs fit: from sktime.transformations.panel.shapelet_transform import ShapeletTransform, RandomShapeletTransform\n",
    "from sktime.transformations.panel.tsfresh import TSFreshFeatureExtractor # requires cleaning\n",
    "#from sktime.transformations.series.binning import TimeBinAggregate\n",
    "from sktime.transformations.panel.rocket import MiniRocketMultivariate, Rocket\n",
    "from sktime.transformations.panel.catch22 import Catch22\n",
    "# wrong python: from sktime.transformations.panel.signature_based import SignatureTransformer\n",
    "\n",
    "\n",
    "trans = Catch22()\n",
    "trans.fit_transform(DB)"
   ]
  },
  {
   "cell_type": "code",
   "execution_count": null,
   "metadata": {},
   "outputs": [],
   "source": []
  }
 ],
 "metadata": {
  "kernelspec": {
   "display_name": ".venv",
   "language": "python",
   "name": "python3"
  },
  "language_info": {
   "codemirror_mode": {
    "name": "ipython",
    "version": 3
   },
   "file_extension": ".py",
   "mimetype": "text/x-python",
   "name": "python",
   "nbconvert_exporter": "python",
   "pygments_lexer": "ipython3",
   "version": "3.11.0"
  }
 },
 "nbformat": 4,
 "nbformat_minor": 2
}
