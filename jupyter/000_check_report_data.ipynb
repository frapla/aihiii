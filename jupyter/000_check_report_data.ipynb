{
 "cells": [
  {
   "cell_type": "code",
   "execution_count": 1,
   "metadata": {},
   "outputs": [
    {
     "name": "stderr",
     "output_type": "stream",
     "text": [
      "2024-04-15 12:26:23,319 MainProcess - MainThread \u001b[0;32mINFO\u001b[0m \u001b[0;32mLog initialized\u001b[0m || 4220488353.py\n"
     ]
    }
   ],
   "source": [
    "import os\n",
    "import sys\n",
    "from pathlib import Path\n",
    "from typing import List, Tuple\n",
    "\n",
    "import IPython\n",
    "import matplotlib.pyplot as plt\n",
    "import pandas as pd\n",
    "import numpy as np\n",
    "from matplotlib.figure import Figure\n",
    "\n",
    "notebook_path = Path(IPython.extract_module_locals()[1][\"__vsc_ipynb_file__\"])\n",
    "project_dir = notebook_path.parent.parent\n",
    "sys.path.append(str(project_dir))\n",
    "import src.utils.custom_log as custom_log\n",
    "from src.utils.local_displacement import get_displ_along_axis\n",
    "from src.utils.set_rcparams import set_rcparams\n",
    "\n",
    "os.chdir(project_dir)\n",
    "LOG = custom_log.init_logger(__name__)\n",
    "custom_log.set_level(custom_log.LEVELS.INFO)\n",
    "LOG.info(\"Log initialized\")\n",
    "\n",
    "set_rcparams()"
   ]
  },
  {
   "cell_type": "code",
   "execution_count": 2,
   "metadata": {},
   "outputs": [],
   "source": [
    "B_PATH:Path=Path(r\"C:\\Users\\plaschkies\\Technische Hochschule Ingolstadt\\THI-TEAM-OccupantSafety-and-ML - Arbeiten - Arbeiten\\Data Generation\\3D\\honda_graphs_from_report\")"
   ]
  },
  {
   "cell_type": "code",
   "execution_count": 3,
   "metadata": {},
   "outputs": [
    {
     "name": "stderr",
     "output_type": "stream",
     "text": [
      "2024-04-15 12:26:23,366 MainProcess - MainThread \u001b[0;32mINFO\u001b[0m \u001b[0;32mFound 50 PNGs and 102 CSVs\u001b[0m || 844422244.py\n"
     ]
    }
   ],
   "source": [
    "PNGS = {png.stem: png for png in B_PATH.glob(\"*.png\")}\n",
    "CSVS = {csv.stem: csv for csv in (B_PATH / \"csvs\").glob(\"*.csv\")}\n",
    "LOG.info(\"Found %s PNGs and %s CSVs\", len(PNGS), len(CSVS))"
   ]
  },
  {
   "cell_type": "code",
   "execution_count": 4,
   "metadata": {},
   "outputs": [],
   "source": [
    "for case in PNGS.keys():\n",
    "    for world in (\"CAE\", \"Test\"):\n",
    "        if f\"{case}_{world}\" not in CSVS:\n",
    "            LOG.warning(\"No CSV for %s %s\", case, world)\n",
    "        else:\n",
    "            LOG.debug(\"Found CSV for %s %s\", case, world)"
   ]
  },
  {
   "cell_type": "code",
   "execution_count": 5,
   "metadata": {},
   "outputs": [
    {
     "name": "stderr",
     "output_type": "stream",
     "text": [
      "2024-04-15 12:26:23,391 MainProcess - MainThread \u001b[0;32mINFO\u001b[0m \u001b[0;32mProcessing full_frontal_56kmh_vehicle_cog_acceleration_x\u001b[0m || 767748803.py\n",
      "2024-04-15 12:26:23,922 MainProcess - MainThread \u001b[0;32mINFO\u001b[0m \u001b[0;32mProcessing full_frontal_56kmh_vehicle_cog_velocity_x\u001b[0m || 767748803.py\n",
      "2024-04-15 12:26:24,427 MainProcess - MainThread \u001b[0;32mINFO\u001b[0m \u001b[0;32mProcessing oblique_left_90kmh_driver_belt_upper_force\u001b[0m || 767748803.py\n",
      "2024-04-15 12:26:24,854 MainProcess - MainThread \u001b[0;32mINFO\u001b[0m \u001b[0;32mProcessing oblique_left_90kmh_driver_femur_force_left\u001b[0m || 767748803.py\n",
      "2024-04-15 12:26:25,275 MainProcess - MainThread \u001b[0;32mINFO\u001b[0m \u001b[0;32mProcessing oblique_left_90kmh_driver_femur_force_right\u001b[0m || 767748803.py\n",
      "2024-04-15 12:26:25,712 MainProcess - MainThread \u001b[0;32mINFO\u001b[0m \u001b[0;32mProcessing oblique_left_90kmh_driver_head_acceleration_res\u001b[0m || 767748803.py\n",
      "2024-04-15 12:26:26,083 MainProcess - MainThread \u001b[0;32mINFO\u001b[0m \u001b[0;32mProcessing oblique_left_90kmh_driver_head_acceleration_x\u001b[0m || 767748803.py\n",
      "2024-04-15 12:26:26,543 MainProcess - MainThread \u001b[0;32mINFO\u001b[0m \u001b[0;32mProcessing oblique_left_90kmh_driver_head_acceleration_y\u001b[0m || 767748803.py\n",
      "2024-04-15 12:26:26,918 MainProcess - MainThread \u001b[0;32mINFO\u001b[0m \u001b[0;32mProcessing oblique_left_90kmh_driver_head_acceleration_z\u001b[0m || 767748803.py\n",
      "2024-04-15 12:26:27,304 MainProcess - MainThread \u001b[0;32mINFO\u001b[0m \u001b[0;32mProcessing oblique_left_90kmh_driver_pelvis_acceleration_x\u001b[0m || 767748803.py\n",
      "2024-04-15 12:26:27,736 MainProcess - MainThread \u001b[0;32mINFO\u001b[0m \u001b[0;32mProcessing oblique_left_90kmh_driver_pelvis_acceleration_y\u001b[0m || 767748803.py\n",
      "2024-04-15 12:26:28,224 MainProcess - MainThread \u001b[0;32mINFO\u001b[0m \u001b[0;32mProcessing oblique_left_90kmh_driver_pelvis_acceleration_z\u001b[0m || 767748803.py\n",
      "2024-04-15 12:26:28,680 MainProcess - MainThread \u001b[0;32mINFO\u001b[0m \u001b[0;32mProcessing oblique_left_90kmh_passenger_belt_upper_force\u001b[0m || 767748803.py\n",
      "2024-04-15 12:26:29,137 MainProcess - MainThread \u001b[0;32mINFO\u001b[0m \u001b[0;32mProcessing oblique_left_90kmh_passenger_femur_force_left\u001b[0m || 767748803.py\n",
      "2024-04-15 12:26:29,511 MainProcess - MainThread \u001b[0;32mINFO\u001b[0m \u001b[0;32mProcessing oblique_left_90kmh_passenger_femur_force_right\u001b[0m || 767748803.py\n",
      "2024-04-15 12:26:29,935 MainProcess - MainThread \u001b[0;32mINFO\u001b[0m \u001b[0;32mProcessing oblique_left_90kmh_passenger_head_acceleration_res\u001b[0m || 767748803.py\n",
      "2024-04-15 12:26:30,330 MainProcess - MainThread \u001b[0;32mINFO\u001b[0m \u001b[0;32mProcessing oblique_left_90kmh_passenger_head_acceleration_x\u001b[0m || 767748803.py\n",
      "2024-04-15 12:26:30,712 MainProcess - MainThread \u001b[0;32mINFO\u001b[0m \u001b[0;32mProcessing oblique_left_90kmh_passenger_head_acceleration_y\u001b[0m || 767748803.py\n",
      "2024-04-15 12:26:31,117 MainProcess - MainThread \u001b[0;32mINFO\u001b[0m \u001b[0;32mProcessing oblique_left_90kmh_passenger_head_acceleration_z\u001b[0m || 767748803.py\n",
      "2024-04-15 12:26:31,551 MainProcess - MainThread \u001b[0;32mINFO\u001b[0m \u001b[0;32mProcessing oblique_left_90kmh_passenger_pelvis_acceleration_x\u001b[0m || 767748803.py\n",
      "2024-04-15 12:26:32,099 MainProcess - MainThread \u001b[0;32mINFO\u001b[0m \u001b[0;32mProcessing oblique_left_90kmh_passenger_pelvis_acceleration_y\u001b[0m || 767748803.py\n",
      "2024-04-15 12:26:32,494 MainProcess - MainThread \u001b[0;32mINFO\u001b[0m \u001b[0;32mProcessing oblique_left_90kmh_passenger_pelvis_acceleration_z\u001b[0m || 767748803.py\n",
      "2024-04-15 12:26:32,895 MainProcess - MainThread \u001b[0;32mINFO\u001b[0m \u001b[0;32mProcessing oblique_left_90kmh_vehicle_cog_acceleration_x\u001b[0m || 767748803.py\n",
      "2024-04-15 12:26:33,356 MainProcess - MainThread \u001b[0;32mINFO\u001b[0m \u001b[0;32mProcessing oblique_left_90kmh_vehicle_cog_acceleration_y\u001b[0m || 767748803.py\n",
      "2024-04-15 12:26:33,850 MainProcess - MainThread \u001b[0;32mINFO\u001b[0m \u001b[0;32mProcessing oblique_left_90kmh_vehicle_cog_velocity_x\u001b[0m || 767748803.py\n",
      "2024-04-15 12:26:34,254 MainProcess - MainThread \u001b[0;32mINFO\u001b[0m \u001b[0;32mProcessing oblique_left_90kmh_vehicle_cog_velocity_y\u001b[0m || 767748803.py\n",
      "2024-04-15 12:26:34,780 MainProcess - MainThread \u001b[0;32mINFO\u001b[0m \u001b[0;32mProcessing oblique_right_90kmh_driver_belt_upper_force\u001b[0m || 767748803.py\n",
      "2024-04-15 12:26:35,215 MainProcess - MainThread \u001b[0;32mINFO\u001b[0m \u001b[0;32mProcessing oblique_right_90kmh_driver_femur_force_left\u001b[0m || 767748803.py\n",
      "2024-04-15 12:26:35,664 MainProcess - MainThread \u001b[0;32mINFO\u001b[0m \u001b[0;32mProcessing oblique_right_90kmh_driver_femur_force_right\u001b[0m || 767748803.py\n",
      "2024-04-15 12:26:36,043 MainProcess - MainThread \u001b[0;32mINFO\u001b[0m \u001b[0;32mProcessing oblique_right_90kmh_driver_head_acceleration_res\u001b[0m || 767748803.py\n",
      "2024-04-15 12:26:36,451 MainProcess - MainThread \u001b[0;32mINFO\u001b[0m \u001b[0;32mProcessing oblique_right_90kmh_driver_head_acceleration_x\u001b[0m || 767748803.py\n",
      "2024-04-15 12:26:36,834 MainProcess - MainThread \u001b[0;32mINFO\u001b[0m \u001b[0;32mProcessing oblique_right_90kmh_driver_head_acceleration_y\u001b[0m || 767748803.py\n",
      "2024-04-15 12:26:37,268 MainProcess - MainThread \u001b[0;32mINFO\u001b[0m \u001b[0;32mProcessing oblique_right_90kmh_driver_head_acceleration_z\u001b[0m || 767748803.py\n",
      "2024-04-15 12:26:37,631 MainProcess - MainThread \u001b[0;32mINFO\u001b[0m \u001b[0;32mProcessing oblique_right_90kmh_driver_pelvis_acceleration_x\u001b[0m || 767748803.py\n",
      "2024-04-15 12:26:38,038 MainProcess - MainThread \u001b[0;32mINFO\u001b[0m \u001b[0;32mProcessing oblique_right_90kmh_driver_pelvis_acceleration_y\u001b[0m || 767748803.py\n",
      "2024-04-15 12:26:38,420 MainProcess - MainThread \u001b[0;32mINFO\u001b[0m \u001b[0;32mProcessing oblique_right_90kmh_driver_pelvis_acceleration_z\u001b[0m || 767748803.py\n",
      "2024-04-15 12:26:38,788 MainProcess - MainThread \u001b[0;32mINFO\u001b[0m \u001b[0;32mProcessing oblique_right_90kmh_passenger_belt_upper_force\u001b[0m || 767748803.py\n",
      "2024-04-15 12:26:39,296 MainProcess - MainThread \u001b[0;32mINFO\u001b[0m \u001b[0;32mProcessing oblique_right_90kmh_passenger_femur_force_left\u001b[0m || 767748803.py\n",
      "2024-04-15 12:26:39,739 MainProcess - MainThread \u001b[0;32mINFO\u001b[0m \u001b[0;32mProcessing oblique_right_90kmh_passenger_femur_force_right\u001b[0m || 767748803.py\n",
      "2024-04-15 12:26:40,236 MainProcess - MainThread \u001b[0;32mINFO\u001b[0m \u001b[0;32mProcessing oblique_right_90kmh_passenger_head_acceleration_res\u001b[0m || 767748803.py\n",
      "2024-04-15 12:26:40,615 MainProcess - MainThread \u001b[0;32mINFO\u001b[0m \u001b[0;32mProcessing oblique_right_90kmh_passenger_head_acceleration_x\u001b[0m || 767748803.py\n",
      "2024-04-15 12:26:41,089 MainProcess - MainThread \u001b[0;32mINFO\u001b[0m \u001b[0;32mProcessing oblique_right_90kmh_passenger_head_acceleration_y\u001b[0m || 767748803.py\n",
      "2024-04-15 12:26:41,523 MainProcess - MainThread \u001b[0;32mINFO\u001b[0m \u001b[0;32mProcessing oblique_right_90kmh_passenger_head_acceleration_z\u001b[0m || 767748803.py\n",
      "2024-04-15 12:26:41,919 MainProcess - MainThread \u001b[0;32mINFO\u001b[0m \u001b[0;32mProcessing oblique_right_90kmh_passenger_pelvis_acceleration_x\u001b[0m || 767748803.py\n",
      "2024-04-15 12:26:42,343 MainProcess - MainThread \u001b[0;32mINFO\u001b[0m \u001b[0;32mProcessing oblique_right_90kmh_passenger_pelvis_acceleration_y\u001b[0m || 767748803.py\n",
      "2024-04-15 12:26:42,791 MainProcess - MainThread \u001b[0;32mINFO\u001b[0m \u001b[0;32mProcessing oblique_right_90kmh_passenger_pelvis_acceleration_z\u001b[0m || 767748803.py\n",
      "2024-04-15 12:26:43,190 MainProcess - MainThread \u001b[0;32mINFO\u001b[0m \u001b[0;32mProcessing oblique_right_90kmh_vehicle_cog_acceleration_x\u001b[0m || 767748803.py\n",
      "2024-04-15 12:26:43,674 MainProcess - MainThread \u001b[0;32mINFO\u001b[0m \u001b[0;32mProcessing oblique_right_90kmh_vehicle_cog_acceleration_y\u001b[0m || 767748803.py\n",
      "2024-04-15 12:26:44,231 MainProcess - MainThread \u001b[0;32mINFO\u001b[0m \u001b[0;32mProcessing oblique_right_90kmh_vehicle_cog_velocity_x\u001b[0m || 767748803.py\n",
      "2024-04-15 12:26:44,653 MainProcess - MainThread \u001b[0;32mINFO\u001b[0m \u001b[0;32mProcessing oblique_right_90kmh_vehicle_cog_velocity_y\u001b[0m || 767748803.py\n"
     ]
    }
   ],
   "source": [
    "PIC_PATH = B_PATH / \"crosscheck\"\n",
    "PIC_PATH.mkdir(exist_ok=True)\n",
    "colors = {\"CAE\":\"blue\", \"Test\":\"black\"}\n",
    "for case in PNGS.keys():\n",
    "    LOG.info(\"Processing %s\", case)\n",
    "    fig, ax = plt.subplots(ncols=2)\n",
    "    ax[1].imshow(plt.imread(PNGS[case]), aspect=\"auto\")\n",
    "    ax[1].set_axis_off()\n",
    "    for world in colors.keys():\n",
    "        csv = pd.read_csv(CSVS[f\"{case}_{world}\"], sep=\";\", index_col=0, decimal=\",\", header=None)[1]\n",
    "        ax[0].plot(csv.index, csv.values, label=f\"Recorded {world}\", c=colors[world])\n",
    "    ax[0].legend()\n",
    "    ax[0].grid()\n",
    "    ax[0].set_xlabel(\"Time [s]\")\n",
    "    ax[0].set_ylabel(case)\n",
    "    plt.savefig(PIC_PATH / f\"{case}.png\")\n",
    "    plt.close(fig)"
   ]
  },
  {
   "cell_type": "code",
   "execution_count": null,
   "metadata": {},
   "outputs": [],
   "source": []
  }
 ],
 "metadata": {
  "kernelspec": {
   "display_name": "Python 3",
   "language": "python",
   "name": "python3"
  },
  "language_info": {
   "codemirror_mode": {
    "name": "ipython",
    "version": 3
   },
   "file_extension": ".py",
   "mimetype": "text/x-python",
   "name": "python",
   "nbconvert_exporter": "python",
   "pygments_lexer": "ipython3",
   "version": "3.11.5"
  }
 },
 "nbformat": 4,
 "nbformat_minor": 2
}
