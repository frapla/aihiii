{
 "cells": [
  {
   "cell_type": "code",
   "execution_count": null,
   "metadata": {},
   "outputs": [],
   "source": [
    "import os\n",
    "from pathlib import Path\n",
    "\n",
    "import matplotlib.pyplot as plt\n",
    "import seaborn as sns\n",
    "from sklearn.metrics import r2_score\n",
    "\n",
    "os.chdir(path=\"/root/py_projects/aihiii\")\n",
    "\n",
    "from src._StandardNames import StandardNames\n",
    "from src.build.AnnUniversalImportableFTExtractor import AnnUniversal\n",
    "from src.evaluate._Data import Data\n",
    "import src.utils.json_util as json_util\n",
    "\n",
    "STR: StandardNames = StandardNames()\n",
    "PERC: int = 95"
   ]
  },
  {
   "cell_type": "code",
   "execution_count": null,
   "metadata": {},
   "outputs": [],
   "source": [
    "b_path = Path(\"models\") / \"CNN\" / \"Reference\" / f\"{PERC:02d}HIII_tg_injury_criteria\"\n",
    "d_path = Path(\"data\") / \"doe\" / \"doe_sobol_20240705_194200\"\n",
    "b_path.is_dir(), d_path.is_dir()"
   ]
  },
  {
   "cell_type": "code",
   "execution_count": 3,
   "metadata": {},
   "outputs": [],
   "source": [
    "x, y = Data(), Data()\n",
    "x.set_from_files(file_paths=[d_path / STR.fname_channels, d_path / STR.fname_injury_crit], percentiles=[50])\n",
    "y.set_from_files(\n",
    "    file_paths=[d_path / STR.fname_injury_crit],\n",
    "    percentiles=[PERC],\n",
    "    columns=[\n",
    "        \"Head_HIC15\",\n",
    "        \"Head_a3ms\",\n",
    "        \"Neck_My_Max\",\n",
    "        \"Neck_Fz_Max_Tension\",\n",
    "        \"Neck_Fx_Shear_Max\",\n",
    "        \"Chest_Deflection\",\n",
    "        \"Femur_Fz_Max_Compression\",\n",
    "    ],\n",
    ")\n",
    "idxs = x.get_tabular().index\n",
    "drops = json_util.load(d_path / STR.fname_dropped_ids)\n",
    "idxs = idxs.drop(drops[str(PERC)] + drops[\"50\"])\n",
    "x, y = Data(), Data()\n",
    "x.set_from_files(file_paths=[d_path / STR.fname_channels, d_path / STR.fname_injury_crit], percentiles=[50], idxs=idxs)\n",
    "y.set_from_files(\n",
    "    file_paths=[d_path / STR.fname_injury_crit],\n",
    "    percentiles=[PERC],\n",
    "    columns=[\n",
    "        \"Head_HIC15\",\n",
    "        \"Head_a3ms\",\n",
    "        \"Neck_My_Max\",\n",
    "        \"Neck_Fz_Max_Tension\",\n",
    "        \"Neck_Fx_Shear_Max\",\n",
    "        \"Chest_Deflection\",\n",
    "        \"Femur_Fz_Max_Compression\",\n",
    "    ],\n",
    "    idxs=idxs,\n",
    ")"
   ]
  },
  {
   "cell_type": "code",
   "execution_count": null,
   "metadata": {},
   "outputs": [],
   "source": [
    "ann = AnnUniversal()\n",
    "ann.load(model_dir=b_path, is_regression=True, is_multi_channel_regression=False, label_names=y.get_tabular().columns)"
   ]
  },
  {
   "cell_type": "code",
   "execution_count": null,
   "metadata": {},
   "outputs": [],
   "source": [
    "y_pred = ann.predict(x=x)"
   ]
  },
  {
   "cell_type": "code",
   "execution_count": null,
   "metadata": {},
   "outputs": [],
   "source": [
    "y_pred.get_tabular().head()"
   ]
  },
  {
   "cell_type": "code",
   "execution_count": null,
   "metadata": {},
   "outputs": [],
   "source": [
    "def plot(ch: str):\n",
    "    fig, ax = plt.subplots()\n",
    "    y_true = y.get_tabular()[ch]\n",
    "    y_pred_ = y_pred.get_tabular()[ch]\n",
    "\n",
    "    sns.kdeplot(x=y_true, y=y_pred_, ax=ax, fill=False, levels=10)\n",
    "    ax.scatter(y_true, y_pred_, s=1, c=\"orange\", alpha=0.5)\n",
    "\n",
    "    r_spot = 0.8 * min([y_true.min(), y_pred_.min()])\n",
    "    l_spot = 1.2 * max([y_true.max(), y_pred_.max()])\n",
    "    ax.plot([r_spot, l_spot], [r_spot, l_spot], c=\"black\", linestyle=\"--\")\n",
    "    ax.set_xlim([r_spot, l_spot])\n",
    "    ax.set_ylim([r_spot, l_spot])\n",
    "    ax.plot([0, 1], [0, 1], transform=ax.transAxes, c=\"black\", linestyle=\"--\")\n",
    "\n",
    "    ax.set_title(f\"{ch} - R²={r2_score(y_true, y_pred_):.2f}\")\n",
    "    ax.set_xlabel(\"True\")\n",
    "    ax.set_ylabel(\"Predicted\")\n",
    "\n",
    "\n",
    "[plot(c) for c in sorted(y.get_tabular().columns)]"
   ]
  },
  {
   "cell_type": "code",
   "execution_count": null,
   "metadata": {},
   "outputs": [],
   "source": []
  }
 ],
 "metadata": {
  "kernelspec": {
   "display_name": ".venv",
   "language": "python",
   "name": "python3"
  },
  "language_info": {
   "codemirror_mode": {
    "name": "ipython",
    "version": 3
   },
   "file_extension": ".py",
   "mimetype": "text/x-python",
   "name": "python",
   "nbconvert_exporter": "python",
   "pygments_lexer": "ipython3",
   "version": "3.11.0rc1"
  }
 },
 "nbformat": 4,
 "nbformat_minor": 2
}
