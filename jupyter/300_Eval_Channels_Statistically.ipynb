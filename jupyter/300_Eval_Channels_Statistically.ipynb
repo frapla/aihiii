{
 "cells": [
  {
   "cell_type": "code",
   "execution_count": 1,
   "metadata": {},
   "outputs": [],
   "source": [
    "import sys\n",
    "from collections import defaultdict\n",
    "from itertools import combinations\n",
    "from pathlib import Path\n",
    "import multiprocessing\n",
    "from typing import Tuple, Union, List\n",
    "\n",
    "import matplotlib.pyplot as plt\n",
    "import pandas as pd\n",
    "import numpy as np\n",
    "import seaborn as sns\n",
    "import plotly.graph_objects as go\n",
    "\n",
    "from IPython.display import display\n",
    "\n",
    "\n",
    "project_dir = Path(\".\").absolute().parent\n",
    "if project_dir not in set(sys.path):\n",
    "    sys.path.append(str(project_dir))\n",
    "import src.utils.custom_log as custom_log\n",
    "import src.utils.json_util as json_util\n",
    "from src.utils.Csv import Csv\n",
    "from src.utils.csv_data_load import load_single_channel"
   ]
  },
  {
   "cell_type": "code",
   "execution_count": null,
   "metadata": {},
   "outputs": [],
   "source": [
    "log = custom_log.init_logger(log_lvl=10)"
   ]
  },
  {
   "cell_type": "code",
   "execution_count": 3,
   "metadata": {},
   "outputs": [],
   "source": [
    "b_path = Path(r\"Q:\\Honda_Accord_2014_Sled_with_HIII_Rigid_Seat_SpeedOpt_BigDOE\\doe_big_grid_20230922_154140\")"
   ]
  },
  {
   "cell_type": "code",
   "execution_count": null,
   "metadata": {},
   "outputs": [],
   "source": [
    "log.info(\"Start\")\n",
    "for path in b_path.glob(\"V*\"):\n",
    "    if not (path / \"channels.csv.zip\"):\n",
    "        log.error(\"Issue in %s\", path)\n",
    "log.info(\"Done\")"
   ]
  },
  {
   "cell_type": "code",
   "execution_count": null,
   "metadata": {},
   "outputs": [],
   "source": [
    "def load_data(ch_name: str) -> pd.DataFrame:\n",
    "    log.info(\"Start\")\n",
    "    \n",
    "    p_tuples: List[Tuple[Path, str]] = [(x / \"channels.csv.zip\", ch_name) for x in b_path.glob(\"V*\") if x.is_dir()]\n",
    "    p_tuples: List[Tuple[Path, str]] = [(x, y) for x, y in p_tuples if x.is_file()]\n",
    "\n",
    "    with multiprocessing.Pool(processes=8) as p:\n",
    "        log.info(\"Run parallel\")\n",
    "        col = p.map(func=load_single_channel, iterable=p_tuples, chunksize=1)\n",
    "    log.info(\"Data collected - transform to DataFrame\")\n",
    "    col = [x for x in col if x is not None]\n",
    "\n",
    "    db = Csv(csv_path=p_tuples[0][0], log=log).read()\n",
    "\n",
    "    return pd.DataFrame(dict(col), index=db.index)\n",
    "\n",
    "\n",
    "ch_data = load_data(ch_name=\"03HEAD0000H395ACRC\")\n",
    "ch_data"
   ]
  },
  {
   "cell_type": "code",
   "execution_count": null,
   "metadata": {},
   "outputs": [],
   "source": [
    "quants = ch_data.T.quantile([0.05,0.25,0.50,0.75,0.95]).T\n",
    "f, ax = plt.subplots()\n",
    "for qu in quants.columns:\n",
    "    ax.plot(quants.index, quants[qu], label=f\"{qu*100:02.0f}\")\n",
    "ax.grid()\n",
    "ax.legend(title=\"Percentile\")"
   ]
  },
  {
   "cell_type": "code",
   "execution_count": null,
   "metadata": {},
   "outputs": [],
   "source": [
    "f, ax = plt.subplots()\n",
    "y_lim = 1500\n",
    "for c in ch_data.columns:\n",
    "    if ch_data[c].max() > y_lim:\n",
    "        ax.plot(ch_data.index, ch_data[c], label=c)\n",
    "    else:\n",
    "        ax.plot(ch_data.index, ch_data[c])\n",
    "ax.grid()\n",
    "ax.legend(title=f\"y_lim<{y_lim}\")\n",
    "ax.set_ylim([0,1000]);"
   ]
  },
  {
   "cell_type": "code",
   "execution_count": null,
   "metadata": {},
   "outputs": [],
   "source": [
    "def plot_outlier():\n",
    "    f1 = ch_data[ch_data.index > 90]\n",
    "    q1 = f1.quantile(0.25, axis=1)\n",
    "    q3 = f1.quantile(0.75, axis=1)\n",
    "    iqr = q3 - q1\n",
    "    fence_up = q3 + 1.5 * iqr\n",
    "    fence_lo = q1 - 1.5 * iqr\n",
    "\n",
    "    is_outlier = f1.gt(fence_up, axis=0)\n",
    "    n_outliers = is_outlier.sum(axis=0)\n",
    "    f2 = n_outliers[n_outliers.ge(250)]\n",
    "    display(f2)\n",
    "\n",
    "    fig, ax = plt.subplots()\n",
    "    ax.boxplot(n_outliers)\n",
    "\n",
    "    fig, ax = plt.subplots()\n",
    "    for sid in f2.index:\n",
    "        ax.plot(ch_data.index, ch_data[sid].values)\n",
    "\n",
    "\n",
    "plot_outlier()"
   ]
  },
  {
   "cell_type": "code",
   "execution_count": null,
   "metadata": {},
   "outputs": [],
   "source": []
  }
 ],
 "metadata": {
  "kernelspec": {
   "display_name": "Python 3",
   "language": "python",
   "name": "python3"
  },
  "language_info": {
   "codemirror_mode": {
    "name": "ipython",
    "version": 3
   },
   "file_extension": ".py",
   "mimetype": "text/x-python",
   "name": "python",
   "nbconvert_exporter": "python",
   "pygments_lexer": "ipython3",
   "version": "3.11.5"
  }
 },
 "nbformat": 4,
 "nbformat_minor": 2
}
