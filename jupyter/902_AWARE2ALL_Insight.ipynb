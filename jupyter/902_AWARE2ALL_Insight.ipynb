{
 "cells": [
  {
   "cell_type": "code",
   "execution_count": null,
   "metadata": {},
   "outputs": [],
   "source": [
    "import logging\n",
    "import os\n",
    "import sys\n",
    "from pathlib import Path\n",
    "from typing import Dict\n",
    "\n",
    "import IPython\n",
    "import matplotlib.pyplot as plt\n",
    "import pandas as pd\n",
    "from tqdm import tqdm\n",
    "\n",
    "notebook_path = Path(IPython.extract_module_locals()[1][\"__vsc_ipynb_file__\"])\n",
    "project_dir = notebook_path.parent.parent\n",
    "sys.path.append(str(project_dir))\n",
    "import src.utils.custom_log as custom_log\n",
    "from src.utils.Csv import Csv\n",
    "from src.utils.iso18571 import rating_iso_18571\n",
    "from src.utils.set_rcparams import set_rcparams\n",
    "from src.utils.PathChecker import PathChecker\n",
    "\n",
    "# logging\n",
    "LOG: logging.Logger = logging.getLogger(__name__)\n",
    "custom_log.init_logger(log_lvl=logging.INFO)\n",
    "LOG.info(\"Log initialized\")\n",
    "\n",
    "# working dir\n",
    "os.chdir(project_dir)\n",
    "LOG.info(\"Working directory: %s\", os.getcwd())\n",
    "\n",
    "# set plot style\n",
    "set_rcparams()"
   ]
  },
  {
   "cell_type": "code",
   "execution_count": null,
   "metadata": {},
   "outputs": [],
   "source": [
    "B_PATH: Path = PathChecker().check_directory(Path(\"/mnt/q/AWARE2ALL/from_esi/Final/VH_AM50/\"))\n",
    "DATA_PATH: Path = PathChecker().check_file(B_PATH / \"extracted.csv.zip\")\n",
    "DOE_PATH: Path = PathChecker().check_file(B_PATH / \"00_DOE_CONFIG_OVERVIEW.csv\")"
   ]
  },
  {
   "cell_type": "code",
   "execution_count": null,
   "metadata": {},
   "outputs": [],
   "source": [
    "DB: pd.DataFrame = Csv(csv_path=DATA_PATH, compress=True).read().apply(pd.to_numeric, downcast=\"float\")\n",
    "DB"
   ]
  },
  {
   "cell_type": "code",
   "execution_count": null,
   "metadata": {},
   "outputs": [],
   "source": []
  }
 ],
 "metadata": {
  "kernelspec": {
   "display_name": ".venv",
   "language": "python",
   "name": "python3"
  },
  "language_info": {
   "codemirror_mode": {
    "name": "ipython",
    "version": 3
   },
   "file_extension": ".py",
   "mimetype": "text/x-python",
   "name": "python",
   "nbconvert_exporter": "python",
   "pygments_lexer": "ipython3",
   "version": "3.11.0"
  }
 },
 "nbformat": 4,
 "nbformat_minor": 2
}
