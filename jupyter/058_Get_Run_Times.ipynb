{
 "cells": [
  {
   "cell_type": "code",
   "execution_count": null,
   "metadata": {},
   "outputs": [],
   "source": [
    "%load_ext autoreload\n",
    "%autoreload 2\n",
    "\n",
    "import os\n",
    "import sys\n",
    "from pathlib import Path\n",
    "from typing import Literal, List, Tuple\n",
    "import matplotlib.pyplot as plt\n",
    "from collections import defaultdict\n",
    "import logging\n",
    "import seaborn as sns\n",
    "\n",
    "import IPython\n",
    "import numpy as np\n",
    "import pandas as pd\n",
    "from IPython.display import display\n",
    "\n",
    "notebook_path = Path(IPython.extract_module_locals()[1][\"__vsc_ipynb_file__\"])\n",
    "project_dir = notebook_path.parent.parent\n",
    "sys.path.append(str(project_dir))\n",
    "\n",
    "\n",
    "import src.utils.custom_log as custom_log\n",
    "from src.utils.Csv import Csv\n",
    "from src.utils.set_rcparams import set_rcparams\n",
    "\n",
    "os.chdir(project_dir)\n",
    "LOG = logging.getLogger(__name__)\n",
    "custom_log.init_logger(log_lvl=logging.INFO)\n",
    "LOG.info(\"Start in %s\", Path().cwd())\n",
    "set_rcparams()\n",
    "B_PATH: Path = Path(\"/mnt\") / \"q\" / \"Val_Chain_Sims\" / \"AB_Testing\"\n",
    "LOG.info(\"B_PATH: %s\", B_PATH)\n",
    "B_PATH.is_dir()"
   ]
  },
  {
   "cell_type": "code",
   "execution_count": null,
   "metadata": {},
   "outputs": [],
   "source": [
    "def get_data() -> Tuple[pd.DataFrame, List[str]]:\n",
    "    db = defaultdict(list)\n",
    "    cases = set([])\n",
    "    for file in B_PATH.rglob(\"mes0000\"):\n",
    "        if not file.parent.parent.stem.startswith(\"Assemblies\"):\n",
    "            continue\n",
    "        LOG.info(\"Read: %s\", file)\n",
    "        # read file\n",
    "        with open(file) as f:\n",
    "            c = f.readlines()\n",
    "\n",
    "        # get from file end\n",
    "        for line in reversed(c):\n",
    "            if line.startswith(\" Elapsed time\"):\n",
    "                parts = line.split()\n",
    "                db[\"Time [min]\"].append(float(parts[2]) / 60)\n",
    "                db[\"Procs\"].append({94: 96, 96: 96, 48: 48}[int(parts[-3])])\n",
    "                db[\"Load Case\"].append(file.parent.name.replace(\"_\", \" \"))\n",
    "                db[\"Case\"].append(\" \".join(file.parent.parent.parent.name.split(\"_\")[1:]))\n",
    "                cases.add(file.parent.parent.parent.name)\n",
    "                db[\"Path\"].append(file.relative_to(B_PATH).parent)\n",
    "                break\n",
    "\n",
    "        # get from file start\n",
    "        for line in reversed(c):\n",
    "            if line.startswith(\"     |  Version : \"):\n",
    "                parts = line.split()\n",
    "\n",
    "                db[\"Precision\"].append(parts[4])\n",
    "                db[\"Version\"].append(parts[5])\n",
    "                db[\"Parallelization\"].append(parts[3])\n",
    "\n",
    "        # combine\n",
    "        db[\"Config\"].append(f\"{db['Precision'][-1].upper()}P {db['Procs'][-1]}\")\n",
    "\n",
    "        LOG.debug(\"From %s got %s\", file, [(x, db[x][-1]) for x in db.keys()])\n",
    "\n",
    "    # consolidate\n",
    "    db = pd.DataFrame(db)\n",
    "    cases = [\" \".join(x.split(\"_\")[1:]) for x in sorted(cases)]\n",
    "    LOG.info(\"Got %s\", db.shape)\n",
    "    return db, cases\n",
    "\n",
    "\n",
    "DB, CASES = get_data()\n",
    "display(DB)\n",
    "print(CASES)"
   ]
  },
  {
   "cell_type": "code",
   "execution_count": null,
   "metadata": {},
   "outputs": [],
   "source": [
    "for load_case in DB[\"Load Case\"].unique():\n",
    "    fig, ax = plt.subplots()\n",
    "    sns.barplot(data=DB[DB[\"Load Case\"].eq(load_case)], x=\"Config\", y=\"Time [min]\", hue=\"Case\", ax=ax, hue_order=CASES)\n",
    "    plt.title(load_case)"
   ]
  },
  {
   "cell_type": "code",
   "execution_count": null,
   "metadata": {},
   "outputs": [],
   "source": [
    "for load_case in DB[\"Load Case\"].unique():\n",
    "    fig, ax = plt.subplots()\n",
    "    sns.barplot(data=DB[DB[\"Load Case\"].eq(load_case) & DB[\"Config\"].eq(\"SP 96\")], y=\"Case\", x=\"Time [min]\", ax=ax, order=CASES)\n",
    "    plt.title(load_case)"
   ]
  },
  {
   "cell_type": "code",
   "execution_count": null,
   "metadata": {},
   "outputs": [],
   "source": [
    "display(DB[[\"Time [min]\", \"Case\"]][DB[\"Load Case\"].eq(\"Full Frontal\") | DB[\"Load Case\"].eq(\"Moderate Overlap Left\")| DB[\"Load Case\"].eq(\"Moderate Overlap Right\")].groupby(\"Case\").median())"
   ]
  },
  {
   "cell_type": "code",
   "execution_count": null,
   "metadata": {},
   "outputs": [],
   "source": [
    "DB[DB[\"Case\"].eq(\"Base Model\")].describe()"
   ]
  },
  {
   "cell_type": "code",
   "execution_count": null,
   "metadata": {},
   "outputs": [],
   "source": [
    "DB[\"Time [min]\"][DB[\"Case\"].eq(\"Base Model\")].plot.hist()"
   ]
  },
  {
   "cell_type": "code",
   "execution_count": null,
   "metadata": {},
   "outputs": [],
   "source": [
    "sns.swarmplot(DB[\"Time [min]\"][DB[\"Case\"].eq(\"Base Model\")])"
   ]
  },
  {
   "cell_type": "code",
   "execution_count": null,
   "metadata": {},
   "outputs": [],
   "source": [
    "fig_width: float = (448.13095 / 72)-0.2\n",
    "fig_height: float = 0.4 * fig_width\n",
    "names = {\n",
    "    \"Full Frontal\": \"Full With Barrier (FWB)\",\n",
    "    \"Moderate Overlap Left\": \"Offset Deformable Barrier\\nLeft (ODB-L)\",\n",
    "    \"Moderate Overlap Right\": \"Offset Deformable Barrier\\nRight(ODB-R)\",\n",
    "    \"Oblique Left\": \"Oblique Movable Deformable\\nBarrier Left (OMDB-L)\",\n",
    "    \"Oblique Right\": \"Oblique Movable Deformable\\nBarrier Right (OMDB-R)\",\n",
    "}\n",
    "fig, ax = plt.subplots(layout=\"constrained\", ncols=2, width_ratios=[1, 0.1])\n",
    "g = sns.barplot(\n",
    "    data=DB[DB[\"Case\"].eq(\"Base Model\")].replace(names),\n",
    "    x=\"Config\",\n",
    "    y=\"Time [min]\",\n",
    "    hue=\"Load Case\",\n",
    "    gap=0.1,\n",
    "    ax=ax[0],\n",
    "    palette=\"colorblind\",\n",
    "    alpha=0.8,\n",
    ")\n",
    "ax[0].grid(axis=\"y\")\n",
    "ax[0].set_ylim([0, 3500])\n",
    "ax[0].set_yticks(np.arange(0, 3501, 500))\n",
    "ax[0].set_axisbelow(b=True)\n",
    "g.legend_.set_title(None)\n",
    "\n",
    "ax[1].legend(*ax[0].get_legend_handles_labels(), loc=\"upper center\")\n",
    "ax[1].axis(\"off\")\n",
    "ax[0].get_legend().remove()\n",
    "#box = ax.get_position()\n",
    "#ax.set_position([box.x0, box.y0, box.width * 0.8, box.height])\n",
    "ax[0].set_ylabel(\"Computation Time [min]\")\n",
    "#ax[0].legend(loc=\"center left\", bbox_to_anchor=(1, 0.5))\n",
    "ax[0].set_xticklabels(\n",
    "    [\n",
    "        \"Single Precision\\n&\\n48 Parallel\\nProcesses\",\n",
    "        \"Single Precision\\n&\\n96 Parallel\\nProcesses\",\n",
    "        \"Double Precision\\n&\\n48 Parallel\\nProcesses\",\n",
    "        \"Double Precision\\n&\\n96 Parallel\\nProcesses\",\n",
    "    ]\n",
    ")\n",
    "ax[0].set_xlabel(\"\")\n",
    "fig.set_figheight(fig_height)\n",
    "fig.set_figwidth(fig_width)\n",
    "fig.savefig(Path(\"reports\") / \"Runtime_Base.pdf\")"
   ]
  },
  {
   "cell_type": "code",
   "execution_count": null,
   "metadata": {},
   "outputs": [],
   "source": []
  }
 ],
 "metadata": {
  "kernelspec": {
   "display_name": ".venv",
   "language": "python",
   "name": "python3"
  },
  "language_info": {
   "codemirror_mode": {
    "name": "ipython",
    "version": 3
   },
   "file_extension": ".py",
   "mimetype": "text/x-python",
   "name": "python",
   "nbconvert_exporter": "python",
   "pygments_lexer": "ipython3",
   "version": "3.11.0rc1"
  }
 },
 "nbformat": 4,
 "nbformat_minor": 2
}
