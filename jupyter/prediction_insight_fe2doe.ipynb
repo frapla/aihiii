{
 "cells": [
  {
   "cell_type": "code",
   "execution_count": null,
   "metadata": {},
   "outputs": [],
   "source": [
    "import sys\n",
    "from logging import Logger\n",
    "from pathlib import Path\n",
    "from typing import Optional, List\n",
    "\n",
    "import IPython\n",
    "import matplotlib.pyplot as plt\n",
    "from matplotlib.axes import Axes\n",
    "import numpy as np\n",
    "import pandas as pd\n",
    "import seaborn as sns\n",
    "from IPython.display import display\n",
    "from sklearn.preprocessing import RobustScaler\n",
    "import tqdm\n",
    "from itertools import product\n",
    "\n",
    "NOTEBOOK_PATH: Path = Path(IPython.extract_module_locals()[1][\"__vsc_ipynb_file__\"])\n",
    "PROJECT_DIR: Path = NOTEBOOK_PATH.parent.parent\n",
    "sys.path.append(str(PROJECT_DIR))\n",
    "import src.utils.custom_log as custom_log\n",
    "\n",
    "LOG: Logger = custom_log.init_logger(__name__, log_lvl=custom_log.LEVELS.INFO)\n",
    "LOG.info(\"Log start, project directory is %s (exist: %s)\", PROJECT_DIR, PROJECT_DIR.is_dir())"
   ]
  },
  {
   "cell_type": "code",
   "execution_count": null,
   "metadata": {},
   "outputs": [],
   "source": [
    "DATA_DIR: Path = PROJECT_DIR / \"data\" / \"raw\" / \"doe_big_grid_20230922_154140\"\n",
    "LOG.info(\"Data directory is %s (exist: %s)\", DATA_DIR, DATA_DIR.is_dir())\n",
    "\n",
    "AI_DIR: Path = PROJECT_DIR / \"experiments\" / \"2024-07-05-07-45-58_trial_doe_from_fe\"\n",
    "LOG.info(\"AI directory is %s (exist: %s)\", AI_DIR, AI_DIR.is_dir())\n",
    "\n",
    "PIC_DIR:Path = PROJECT_DIR / \"reports\" / \"figures\" / NOTEBOOK_PATH.stem\n",
    "PIC_DIR.mkdir(parents=True, exist_ok=True)\n",
    "LOG.info(\"Picture directory is %s (exist: %s)\", PIC_DIR, PIC_DIR.is_dir())"
   ]
  },
  {
   "cell_type": "code",
   "execution_count": 3,
   "metadata": {},
   "outputs": [],
   "source": [
    "RNG: np.random.Generator = np.random.default_rng(seed=42)\n",
    "PERCENTILE: int = 50"
   ]
  },
  {
   "cell_type": "code",
   "execution_count": null,
   "metadata": {},
   "outputs": [],
   "source": [
    "DOE: pd.DataFrame = pd.read_parquet(DATA_DIR / \"doe.parquet\", filters=[(\"PERC\", \"==\", PERCENTILE)])\n",
    "DOE.drop(columns=[\"PERC\"], inplace=True)\n",
    "DOE"
   ]
  },
  {
   "cell_type": "code",
   "execution_count": null,
   "metadata": {},
   "outputs": [],
   "source": [
    "CHANNELS: pd.DataFrame = pd.read_parquet(DATA_DIR / \"channels.parquet\", filters=[(\"SIM_ID\", \"in\", set(DOE.index))])\n",
    "CHANNELS"
   ]
  },
  {
   "cell_type": "code",
   "execution_count": null,
   "metadata": {},
   "outputs": [],
   "source": [
    "INJURY_VALUES: pd.DataFrame = pd.read_parquet(DATA_DIR / \"injury_criteria.parquet\", filters=[(\"SIM_ID\", \"in\", set(DOE.index))])\n",
    "INJURY_VALUES"
   ]
  },
  {
   "cell_type": "code",
   "execution_count": null,
   "metadata": {},
   "outputs": [],
   "source": [
    "sns.pairplot(DOE);"
   ]
  },
  {
   "cell_type": "code",
   "execution_count": null,
   "metadata": {},
   "outputs": [],
   "source": [
    "sns.pairplot(pd.concat([DOE, INJURY_VALUES], axis=1), x_vars=DOE.columns, y_vars=INJURY_VALUES.columns);"
   ]
  },
  {
   "cell_type": "code",
   "execution_count": null,
   "metadata": {},
   "outputs": [],
   "source": [
    "def plot_channel(channel: str, ax: Optional[Axes] = None, n_samples: int = 10, choose_from: Optional[List[int]] = None) -> None:\n",
    "    LOG.info(\"Plotting channel %s\", channel)\n",
    "    # init plot\n",
    "    if ax is None:\n",
    "        _, ax = plt.subplots()\n",
    "\n",
    "    # selection\n",
    "    if choose_from is None:\n",
    "        choose_from = sorted(DOE.index)\n",
    "    samples = sorted(RNG.choice(choose_from, n_samples))\n",
    "\n",
    "    # plot\n",
    "    for idx in samples:\n",
    "        data = CHANNELS.loc[(idx, slice(None)), channel]\n",
    "        ax.plot(data.index.get_level_values(\"TIME\"), data.values, label=idx)\n",
    "\n",
    "    # format\n",
    "    ax.grid()\n",
    "    ax.legend()\n",
    "    ax.set_title(channel)\n",
    "\n",
    "\n",
    "plot_channel(\"03CHST0000OCCUACXD\")"
   ]
  },
  {
   "cell_type": "code",
   "execution_count": null,
   "metadata": {},
   "outputs": [],
   "source": [
    "def plot_channel_conditional_doe(factor: str, channel: str, store: Optional[bool] = False) -> None:\n",
    "    LOG.info(\"Plotting channel %s conditional on %s\", channel, factor)\n",
    "\n",
    "    factor_values = DOE[factor].unique()\n",
    "    fig, ax = plt.subplots(ncols=len(factor_values), sharex=True, sharey=True, figsize=(25, 5), layout=\"constrained\")\n",
    "    for i, factor_value in enumerate(factor_values):\n",
    "        plot_channel(\n",
    "            channel=channel,\n",
    "            ax=ax[i],\n",
    "            choose_from=sorted(DOE[DOE[factor].eq(factor_value)].index),\n",
    "        )\n",
    "        ax[i].set_title(f\"{factor}={factor_value:.2f}\")\n",
    "    fig.suptitle(channel)\n",
    "\n",
    "    if store:\n",
    "        pic_path = PIC_DIR / \"channel_conditional_doe\" / f\"{channel}_{factor}.png\"\n",
    "        pic_path.parent.mkdir(parents=True, exist_ok=True)\n",
    "        LOG.info(\"Saving picture to %s\", pic_path)\n",
    "        fig.savefig(pic_path)\n",
    "        plt.close(fig)\n",
    "\n",
    "    LOG.info(\"Done\")\n",
    "\n",
    "\n",
    "plot_channel_conditional_doe(factor=\"PAB_M_Scal\", channel=\"03CHST0000OCCUACXD\")"
   ]
  },
  {
   "cell_type": "code",
   "execution_count": null,
   "metadata": {},
   "outputs": [],
   "source": [
    "LOG.setLevel(custom_log.LEVELS.WARNING)\n",
    "for channel, factor in tqdm.tqdm(list(product(CHANNELS.columns, DOE.columns))):\n",
    "    plot_channel_conditional_doe(factor=factor, channel=channel, store=True)\n",
    "LOG.setLevel(custom_log.LEVELS.INFO)"
   ]
  },
  {
   "cell_type": "code",
   "execution_count": null,
   "metadata": {},
   "outputs": [],
   "source": [
    "def plot_parameter_influence(channel: str, para_pos: int = 2, store: bool = False) -> None:\n",
    "    fig, ax = plt.subplots(ncols=len(DOE.columns), figsize=(20, 10), sharex=True, sharey=True, layout=\"constrained\")\n",
    "    fig.suptitle(channel)\n",
    "\n",
    "    for i, col in enumerate(DOE.columns):\n",
    "        remaining = set(DOE.columns) - {col}\n",
    "        filt = DOE[col].le(1e20)\n",
    "        for other_col in remaining:\n",
    "            filt &= DOE[other_col].eq(sorted(DOE[other_col].unique())[para_pos])\n",
    "\n",
    "        for idx in DOE[filt].index:\n",
    "            ch_data = CHANNELS.loc[(idx, slice(None)), channel]\n",
    "            ax[i].plot(ch_data.index.get_level_values(\"TIME\"), ch_data.values, label=f\"{DOE.loc[idx, col]:.2f} (ID {idx})\")\n",
    "        ax[i].set_title(col)\n",
    "        ax[i].grid()\n",
    "        ax[i].legend()\n",
    "\n",
    "    if store:\n",
    "        pic_path = PIC_DIR / \"plot_parameter_influence\" / f\"{channel}.png\"\n",
    "        pic_path.parent.mkdir(parents=True, exist_ok=True)\n",
    "        LOG.info(\"Saving picture to %s\", pic_path)\n",
    "        fig.savefig(pic_path)\n",
    "        plt.close(fig)\n",
    "\n",
    "plot_parameter_influence(\"03CHST0000OCCUACXD\")"
   ]
  },
  {
   "cell_type": "code",
   "execution_count": null,
   "metadata": {},
   "outputs": [],
   "source": [
    "LOG.setLevel(custom_log.LEVELS.WARNING)\n",
    "for ch in tqdm.tqdm(CHANNELS.columns):\n",
    "    plot_parameter_influence(channel=ch, store=True)\n",
    "LOG.setLevel(custom_log.LEVELS.INFO)"
   ]
  },
  {
   "cell_type": "code",
   "execution_count": null,
   "metadata": {},
   "outputs": [],
   "source": []
  }
 ],
 "metadata": {
  "kernelspec": {
   "display_name": ".venv",
   "language": "python",
   "name": "python3"
  },
  "language_info": {
   "codemirror_mode": {
    "name": "ipython",
    "version": 3
   },
   "file_extension": ".py",
   "mimetype": "text/x-python",
   "name": "python",
   "nbconvert_exporter": "python",
   "pygments_lexer": "ipython3",
   "version": "3.11.0rc1"
  }
 },
 "nbformat": 4,
 "nbformat_minor": 2
}
