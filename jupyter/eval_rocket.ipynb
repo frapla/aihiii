{
 "cells": [
  {
   "cell_type": "code",
   "execution_count": null,
   "metadata": {},
   "outputs": [],
   "source": [
    "import logging\n",
    "import os\n",
    "from itertools import combinations\n",
    "from pathlib import Path\n",
    "from typing import List, Optional, Literal\n",
    "\n",
    "import matplotlib.pyplot as plt\n",
    "import numpy as np\n",
    "import pandas as pd\n",
    "import plotly.express as px\n",
    "import polars as pl\n",
    "import seaborn as sns\n",
    "from IPython.display import display\n",
    "\n",
    "\n",
    "os.chdir(\"/root/py_projects/aihiii\")\n",
    "\n",
    "import src.utils.json_util as json_util\n",
    "from src._StandardNames import StandardNames\n",
    "from src.utils.custom_log import init_logger\n",
    "from src.utils.set_rcparams import set_rcparams\n",
    "\n",
    "set_rcparams()\n",
    "\n",
    "LOG: logging.Logger = logging.getLogger(__name__)\n",
    "STR: StandardNames = StandardNames()\n",
    "\n",
    "init_logger(log_lvl=logging.INFO)\n",
    "LOG.info(\"Working directory: %s\", os.getcwd())\n",
    "\n",
    "WIDTH: float = 448.13095 / 72 -0.2"
   ]
  },
  {
   "cell_type": "code",
   "execution_count": null,
   "metadata": {},
   "outputs": [],
   "source": [
    "FIG_DIR: Path = Path() / \"reports\" / \"figures\"\n",
    "FIG_DIR /= \"eval_rocket\"\n",
    "FIG_DIR.mkdir(parents=True, exist_ok=True)\n",
    "LOG.info(\"Figures in %s, exist - %s\", FIG_DIR, FIG_DIR.is_dir())"
   ]
  },
  {
   "cell_type": "code",
   "execution_count": null,
   "metadata": {},
   "outputs": [],
   "source": [
    "DATA_DIR:Path = Path(\"experiments\")\n",
    "LOG.info(\"Data in %s, exist - %s\", DATA_DIR, DATA_DIR.is_dir())"
   ]
  },
  {
   "cell_type": "code",
   "execution_count": null,
   "metadata": {},
   "outputs": [],
   "source": [
    "DIRS: List[Path] = sorted(DATA_DIR.glob(\"2024-12-2*-*-*-*_rocket_ann_95HIII_injury_criteria_from_doe_sobol_20240705_194200_ft_channels\"))\n",
    "LOG.info(\"Rocket dirs (n=%s):\\n%s\", len(DIRS), DIRS)"
   ]
  },
  {
   "cell_type": "code",
   "execution_count": null,
   "metadata": {},
   "outputs": [],
   "source": [
    "def get_data() -> pd.DataFrame:\n",
    "    results = []\n",
    "    for res_dir in DIRS:\n",
    "        LOG.info(\"Processing %s\", res_dir)\n",
    "\n",
    "        # get results\n",
    "        results.append(pd.read_csv(res_dir / STR.fname_results_csv, index_col=[0,1]).loc[(-1, slice(None)), :].droplevel(STR.fold))\n",
    "\n",
    "        # get para\n",
    "        para = json_util.load(f_path=res_dir / STR.fname_para)\n",
    "        results[-1][STR.perc] = para[STR.perc][STR.target][0]\n",
    "        k = para[STR.pipeline][\"n_kernels\"]\n",
    "        results[-1][\"Kernels\"] = \"None\" if k is None else k\n",
    "        results[-1].set_index(\"Kernels\", append=True, inplace=True)\n",
    "        results[-1][\"Median\"] = results[-1].median(axis=1)\n",
    "\n",
    "    results = pd.concat(results).sort_index().drop(columns=STR.perc)\n",
    "\n",
    "    return results\n",
    "\n",
    "RESULTS:pd.DataFrame = get_data()\n",
    "RESULTS"
   ]
  },
  {
   "cell_type": "code",
   "execution_count": null,
   "metadata": {},
   "outputs": [],
   "source": [
    "def plotter():\n",
    "    \n",
    "    db = RESULTS.reset_index()\n",
    "    display(db)\n",
    "\n",
    "    for col in RESULTS.columns:\n",
    "        fig, ax = plt.subplots()\n",
    "        sns.scatterplot(data=db, x=\"Kernels\", y=col, hue=\"Data\", ax=ax)\n",
    "\n",
    "plotter()"
   ]
  },
  {
   "cell_type": "code",
   "execution_count": null,
   "metadata": {},
   "outputs": [],
   "source": [
    "pd.DataFrame(RESULTS[\"Median\"]).reset_index().pivot(index=\"Kernels\", columns=\"Data\").round(2)"
   ]
  },
  {
   "cell_type": "code",
   "execution_count": null,
   "metadata": {},
   "outputs": [],
   "source": []
  }
 ],
 "metadata": {
  "kernelspec": {
   "display_name": ".venv",
   "language": "python",
   "name": "python3"
  },
  "language_info": {
   "codemirror_mode": {
    "name": "ipython",
    "version": 3
   },
   "file_extension": ".py",
   "mimetype": "text/x-python",
   "name": "python",
   "nbconvert_exporter": "python",
   "pygments_lexer": "ipython3",
   "version": "3.11.0rc1"
  }
 },
 "nbformat": 4,
 "nbformat_minor": 2
}
