{
 "cells": [
  {
   "cell_type": "code",
   "execution_count": null,
   "metadata": {},
   "outputs": [],
   "source": [
    "import logging\n",
    "import os\n",
    "from itertools import combinations\n",
    "from pathlib import Path\n",
    "from typing import List, Optional, Literal\n",
    "\n",
    "import matplotlib.pyplot as plt\n",
    "import numpy as np\n",
    "import pandas as pd\n",
    "import plotly.express as px\n",
    "import polars as pl\n",
    "import seaborn as sns\n",
    "from IPython.display import display\n",
    "\n",
    "\n",
    "os.chdir(\"/root/py_projects/aihiii\")\n",
    "\n",
    "import src.utils.json_util as json_util\n",
    "from src._StandardNames import StandardNames\n",
    "from src.utils.custom_log import init_logger\n",
    "from src.utils.set_rcparams import set_rcparams\n",
    "\n",
    "set_rcparams()\n",
    "\n",
    "LOG: logging.Logger = logging.getLogger(__name__)\n",
    "STR: StandardNames = StandardNames()\n",
    "\n",
    "init_logger(log_lvl=logging.INFO)\n",
    "LOG.info(\"Working directory: %s\", os.getcwd())\n",
    "\n",
    "WIDTH: float = 448.13095 / 72"
   ]
  },
  {
   "cell_type": "code",
   "execution_count": null,
   "metadata": {},
   "outputs": [],
   "source": [
    "FIG_DIR: Path = Path() / \"reports\" / \"figures\"\n",
    "FIG_DIR /= \"characterize_50th\"\n",
    "FIG_DIR.mkdir(parents=True, exist_ok=True)\n",
    "LOG.info(\"Figures in %s, exist - %s\", FIG_DIR, FIG_DIR.is_dir())"
   ]
  },
  {
   "cell_type": "code",
   "execution_count": null,
   "metadata": {},
   "outputs": [],
   "source": [
    "DATA_DIR:Path = Path(\"experiments\")\n",
    "LOG.info(\"Data in %s, exist - %s\", DATA_DIR, DATA_DIR.is_dir())"
   ]
  },
  {
   "cell_type": "code",
   "execution_count": null,
   "metadata": {},
   "outputs": [],
   "source": [
    "PCA_DIRS: List[Path] = sorted(DATA_DIR.glob(\"2024-12-1*-*-*-*_pca_ann_*HIII_injury_criteria_from_doe_sobol_20240705_194200_ft_channels\"))\n",
    "LOG.info(\"PCA dirs (n=%s):\\n%s\", len(PCA_DIRS), PCA_DIRS)"
   ]
  },
  {
   "cell_type": "code",
   "execution_count": null,
   "metadata": {},
   "outputs": [],
   "source": [
    "def get_data() -> pd.DataFrame:\n",
    "    results = []\n",
    "    for res_dir in PCA_DIRS:\n",
    "        LOG.info(\"Processing %s\", res_dir)\n",
    "\n",
    "        # get results\n",
    "        results.append(pd.read_csv(res_dir / STR.fname_results_csv, index_col=[0,1]).loc[(-1, slice(None)), :].droplevel(STR.fold))\n",
    "\n",
    "        # get para\n",
    "        para = json_util.load(f_path=res_dir / STR.fname_para)\n",
    "        results[-1][STR.perc] = para[STR.perc][STR.target][0]\n",
    "        k = para[STR.pipeline][\"pca_kernel\"]\n",
    "        results[-1][\"Kernel\"] = \"None\" if k is None else k\n",
    "        results[-1][\"N_COMPONENTS\"] = para[STR.pipeline][\"n_pca_components\"]\n",
    "        results[-1].set_index([\"Kernel\", \"N_COMPONENTS\", STR.perc], append=True, inplace=True)\n",
    "        results[-1][\"Median\"] = results[-1].median(axis=1)\n",
    "\n",
    "    results = pd.concat(results).sort_index()\n",
    "    results.columns.name = \"Injury_Criterion\"\n",
    "\n",
    "    return results\n",
    "\n",
    "RESULTS:pd.DataFrame = get_data()\n",
    "RESULTS"
   ]
  },
  {
   "cell_type": "code",
   "execution_count": null,
   "metadata": {},
   "outputs": [],
   "source": [
    "RESULTS_L:pd.DataFrame = pd.DataFrame({\"R2\":RESULTS.stack()}).reset_index()\n",
    "RESULTS_L"
   ]
  },
  {
   "cell_type": "code",
   "execution_count": null,
   "metadata": {},
   "outputs": [],
   "source": [
    "RESULTS.loc[(*[slice(None)]*3, 5), :].droplevel(STR.perc)"
   ]
  },
  {
   "cell_type": "code",
   "execution_count": null,
   "metadata": {},
   "outputs": [],
   "source": [
    "RESULTS.loc[(\"Test\", *[slice(None)]*2, 95), :].droplevel(STR.perc)"
   ]
  },
  {
   "cell_type": "code",
   "execution_count": null,
   "metadata": {},
   "outputs": [],
   "source": [
    "def plot(perc: int):\n",
    "    g=sns.catplot(\n",
    "        data=RESULTS_L[RESULTS_L[STR.perc].eq(perc)],\n",
    "        y=\"Injury_Criterion\",\n",
    "        x=\"R2\",\n",
    "        hue=\"Data\",\n",
    "        col=\"Kernel\",\n",
    "        row=\"N_COMPONENTS\",\n",
    "        kind=\"bar\",\n",
    "        hue_order=[\"Train\", \"Test\"],\n",
    "        orient=\"h\",\n",
    "    )\n",
    "    for ax in g.axes.flat:\n",
    "        ax.grid()\n",
    "        ax.set_xlim(0, 1)\n",
    "        ax.set_xticks(np.linspace(0, 1, 21))\n",
    "        ax.axvline(RESULTS.loc[(\"Test\", *[slice(None)]*2, perc), \"Median\"].max(), c=\"black\", ls=\"--\")\n",
    "    print(perc, RESULTS.loc[(\"Test\", *[slice(None)]*2, perc), \"Median\"].max())\n",
    "\n",
    "plot(perc=5)"
   ]
  },
  {
   "cell_type": "code",
   "execution_count": null,
   "metadata": {},
   "outputs": [],
   "source": [
    "plot(perc=95)"
   ]
  },
  {
   "cell_type": "code",
   "execution_count": null,
   "metadata": {},
   "outputs": [],
   "source": [
    "def plot2():\n",
    "    fig, ax = plt.subplot_mosaic(\n",
    "        mosaic=[[\"L\", \"L\"], [\"5_20\", \"5_40\"], [\"95_20\", \"95_40\"]],\n",
    "        layout=\"constrained\",\n",
    "        height_ratios=[0.1, 1, 1],\n",
    "        sharex=True,\n",
    "        sharey=True,\n",
    "    )\n",
    "    db = pd.DataFrame({\"R2\": RESULTS[\"Median\"]}).reset_index().replace({\"Train\": \"Training-set\", \"Test\": \"Validation-set\"})\n",
    "    for perc in [5, 95]:\n",
    "        for n_comp in [20, 40]:\n",
    "            sns.barplot(\n",
    "                data=db[db[STR.perc].eq(perc) & db[\"N_COMPONENTS\"].eq(n_comp)],\n",
    "                x=\"Kernel\",\n",
    "                y=\"R2\",\n",
    "                hue=\"Data\",                \n",
    "                ax=ax[f\"{perc}_{n_comp}\"],\n",
    "                alpha=0.5,\n",
    "                hue_order=[\"Training-set\", \"Validation-set\"],\n",
    "            )\n",
    "            ax[f\"{perc}_{n_comp}\"].bar_label(ax[f\"{perc}_{n_comp}\"].containers[0], fmt=\"%.2f\", padding=-9)\n",
    "            ax[f\"{perc}_{n_comp}\"].bar_label(ax[f\"{perc}_{n_comp}\"].containers[1], fmt=\"%.2f\", padding=-9)\n",
    "\n",
    "            ax[f\"{perc}_{n_comp}\"].grid()\n",
    "            ax[f\"{perc}_{n_comp}\"].set_ylabel(\"Median of R2-score\")\n",
    "            ax[f\"{perc}_{n_comp}\"].set_ylim(0, 1)\n",
    "            ax[f\"{perc}_{n_comp}\"].set_yticks(np.linspace(0, 1, 11))\n",
    "            ax[f\"{perc}_{n_comp}\"].set_axisbelow(True)\n",
    "            ax[f\"{perc}_{n_comp}\"].set_title(f\"HIII-{perc:02d}{'F' if perc==5 else 'M'} with n_components={n_comp}\")\n",
    "            ax[\"L\"].legend(*ax[f\"{perc}_{n_comp}\"].get_legend_handles_labels(), ncols=2, loc=\"upper center\")\n",
    "            ax[f\"{perc}_{n_comp}\"].legend().remove()\n",
    "    ax[\"L\"].axis(\"off\")\n",
    "\n",
    "    fig.set_figwidth(WIDTH - 0.2)\n",
    "    fig.set_figheight(0.5 * WIDTH)\n",
    "    fig.savefig(FIG_DIR / \"pca_results.pdf\")\n",
    "\n",
    "\n",
    "plot2()"
   ]
  },
  {
   "cell_type": "code",
   "execution_count": null,
   "metadata": {},
   "outputs": [],
   "source": [
    "pd.DataFrame({\"R2\":RESULTS[\"Median\"]}).reset_index()"
   ]
  },
  {
   "cell_type": "code",
   "execution_count": null,
   "metadata": {},
   "outputs": [],
   "source": [
    "import pickle\n",
    "from sklearn.decomposition import PCA\n",
    "with open(\"experiments/2024-11-08-15-50-55_pca_ann_05HIII_injury_criteria_from_doe_sobol_20240705_194200_ft_channels/feature_extractor.pkl\", \"rb\") as f:\n",
    "    fe:PCA = pickle.load(f)\n",
    "\n",
    "print(len(fe.explained_variance_ratio_), np.sum(fe.explained_variance_ratio_))"
   ]
  },
  {
   "cell_type": "code",
   "execution_count": null,
   "metadata": {},
   "outputs": [],
   "source": [
    "with open(\"experiments/2024-11-08-22-14-27_pca_ann_05HIII_injury_criteria_from_doe_sobol_20240705_194200_ft_channels/feature_extractor.pkl\", \"rb\") as f:\n",
    "    fe:PCA = pickle.load(f)\n",
    "\n",
    "print(len(fe.explained_variance_ratio_), np.sum(fe.explained_variance_ratio_))"
   ]
  },
  {
   "cell_type": "code",
   "execution_count": null,
   "metadata": {},
   "outputs": [],
   "source": [
    "with open(\"experiments/2024-11-08-15-50-55_pca_ann_05HIII_injury_criteria_from_doe_sobol_20240705_194200_ft_channels/feature_extractor.pkl\", \"rb\") as f:\n",
    "    fe:PCA = pickle.load(f)\n",
    "\n",
    "print(len(fe.explained_variance_ratio_), np.sum(fe.explained_variance_ratio_))"
   ]
  },
  {
   "cell_type": "code",
   "execution_count": null,
   "metadata": {},
   "outputs": [],
   "source": [
    "len([\n",
    "      \"03CHST0000OCCUACXD\",\n",
    "      \"03CHST0000OCCUACYD\",\n",
    "      \"03CHST0000OCCUACZD\",\n",
    "      \"03CHST0000OCCUDSXD\",\n",
    "      \"03CHSTLOC0OCCUDSXD\",\n",
    "      \"03CHSTLOC0OCCUDSYD\",\n",
    "      \"03CHSTLOC0OCCUDSZD\",\n",
    "      \"03FEMRLE00OCCUFOZD\",\n",
    "      \"03FEMRRI00OCCUFOZD\",\n",
    "      \"03HEAD0000OCCUACXD\",\n",
    "      \"03HEAD0000OCCUACYD\",\n",
    "      \"03HEAD0000OCCUACZD\",\n",
    "      \"03HEADLOC0OCCUDSXD\",\n",
    "      \"03HEADLOC0OCCUDSYD\",\n",
    "      \"03HEADLOC0OCCUDSZD\",\n",
    "      \"03NECKUP00OCCUFOXD\",\n",
    "      \"03NECKUP00OCCUFOYD\",\n",
    "      \"03NECKUP00OCCUFOZD\",\n",
    "      \"03NECKUP00OCCUMOYD\",\n",
    "      \"03PELV0000OCCUACXD\",\n",
    "      \"03PELV0000OCCUACYD\",\n",
    "      \"03PELV0000OCCUACZD\",\n",
    "      \"03PELVLOC0OCCUDSXD\",\n",
    "      \"03PELVLOC0OCCUDSYD\",\n",
    "      \"03PELVLOC0OCCUDSZD\"\n",
    "    ])"
   ]
  },
  {
   "cell_type": "code",
   "execution_count": null,
   "metadata": {},
   "outputs": [],
   "source": []
  }
 ],
 "metadata": {
  "kernelspec": {
   "display_name": ".venv",
   "language": "python",
   "name": "python3"
  },
  "language_info": {
   "codemirror_mode": {
    "name": "ipython",
    "version": 3
   },
   "file_extension": ".py",
   "mimetype": "text/x-python",
   "name": "python",
   "nbconvert_exporter": "python",
   "pygments_lexer": "ipython3",
   "version": "3.11.0rc1"
  }
 },
 "nbformat": 4,
 "nbformat_minor": 2
}
