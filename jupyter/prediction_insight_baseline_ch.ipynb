{
 "cells": [
  {
   "cell_type": "code",
   "execution_count": null,
   "metadata": {},
   "outputs": [],
   "source": [
    "import json\n",
    "import sys\n",
    "from itertools import product\n",
    "from logging import Logger\n",
    "from pathlib import Path\n",
    "from typing import List, Literal, Optional\n",
    "\n",
    "import Fred as fred\n",
    "import IPython\n",
    "import matplotlib.pyplot as plt\n",
    "import numpy as np\n",
    "import pandas as pd\n",
    "import seaborn as sns\n",
    "import similaritymeasures\n",
    "import tqdm\n",
    "from IPython.display import display\n",
    "from matplotlib.axes import Axes\n",
    "from sklearn.metrics import r2_score\n",
    "from sklearn.preprocessing import RobustScaler\n",
    "\n",
    "NOTEBOOK_PATH: Path = Path(IPython.extract_module_locals()[1][\"__vsc_ipynb_file__\"])\n",
    "PROJECT_DIR: Path = NOTEBOOK_PATH.parent.parent\n",
    "sys.path.append(str(PROJECT_DIR))\n",
    "import src.utils.custom_log as custom_log\n",
    "import src.utils.json_util as json_util\n",
    "from src.utils.iso18571 import rating_iso_18571_short\n",
    "\n",
    "LOG: Logger = custom_log.init_logger(__name__, log_lvl=custom_log.LEVELS.INFO)\n",
    "LOG.info(\"Log start, project directory is %s (exist: %s)\", PROJECT_DIR, PROJECT_DIR.is_dir())"
   ]
  },
  {
   "cell_type": "code",
   "execution_count": 2,
   "metadata": {},
   "outputs": [],
   "source": [
    "DATA_DIR: Path = PROJECT_DIR / \"experiments\" / \"2024-07-17-07-18-04_baseline_channels_3D_95th\""
   ]
  },
  {
   "cell_type": "code",
   "execution_count": 29,
   "metadata": {},
   "outputs": [],
   "source": [
    "RNG = np.random.default_rng(42)"
   ]
  },
  {
   "cell_type": "code",
   "execution_count": 53,
   "metadata": {},
   "outputs": [],
   "source": [
    "def get_pred_data(case: Literal[\"train\", \"test\"] = \"train\", fold: int = 1) -> np.ndarray:\n",
    "    path = DATA_DIR / f\"y_pred_{case}_{fold}.npy\"\n",
    "    LOG.info(\"Loading %s\", path)\n",
    "    db = np.load(path)[0,:,:]\n",
    "    LOG.info(\"Loaded %s\", db.shape)\n",
    "\n",
    "    return db   \n",
    "\n",
    "\n",
    "DATA_PRED = get_pred_data()"
   ]
  },
  {
   "cell_type": "code",
   "execution_count": null,
   "metadata": {},
   "outputs": [],
   "source": [
    "DATA_TRUE = np.load(PROJECT_DIR / \"data\"/\"processed\"/\"doe_big_grid_20230922_154140\"/\"channels_3D_95th.npy\")\n",
    "DATA_TRUE.shape"
   ]
  },
  {
   "cell_type": "code",
   "execution_count": null,
   "metadata": {},
   "outputs": [],
   "source": [
    "RATINGS: pd.DataFrame = pd.DataFrame(json_util.load(DATA_DIR / \"results.json\")[\"summary\"])\n",
    "RATINGS"
   ]
  },
  {
   "cell_type": "code",
   "execution_count": null,
   "metadata": {},
   "outputs": [],
   "source": [
    "def plot(ch_idx: int, idx=None):\n",
    "    fig, ax = plt.subplots()\n",
    "    ax.set_title(f\"{ch_idx} - {RATINGS.columns[ch_idx]}\")\n",
    "\n",
    "    ax.plot(DATA_PRED[ch_idx, :], label=\"Pred\", c=\"black\", lw=2)\n",
    "\n",
    "    idxs = RNG.integers(0, DATA_TRUE.shape[0], 5, endpoint=True) if idx is None else [idx]\n",
    "    for i in idxs:\n",
    "        iso = rating_iso_18571_short(signal_ref=DATA_TRUE[i, ch_idx, 200:1301], signal_comp=DATA_PRED[ch_idx, 200:1301])\n",
    "        r2 = r2_score(DATA_TRUE[i, ch_idx, 200:1301], DATA_PRED[ch_idx, 200:1301])\n",
    "        maxi = 1 - np.abs(np.max(DATA_TRUE[i, ch_idx, 200:1301]) - np.max(DATA_PRED[ch_idx, 200:1301])) / np.max(\n",
    "            DATA_TRUE[i, ch_idx, 200:1301]\n",
    "        )\n",
    "        ax.plot(DATA_TRUE[i, ch_idx, :], alpha=0.5, label=f\"V{i:06d} - ISO={iso:.2f} - R2={r2:.2f} - Max={maxi:.2f}\")\n",
    "    ax.grid()\n",
    "    ax.legend(loc=1)\n",
    "\n",
    "\n",
    "[plot(ch_idx=i, idx=1689) for i in range(DATA_TRUE.shape[1])]"
   ]
  },
  {
   "cell_type": "code",
   "execution_count": 76,
   "metadata": {},
   "outputs": [],
   "source": [
    "def some_isos(ch_idx: int):\n",
    "    isos = []\n",
    "    for i in range(DATA_TRUE.shape[0]):  # RNG.integers(0, DATA_TRUE.shape[0], 1000, endpoint=True):\n",
    "        iso = rating_iso_18571_short(signal_ref=DATA_TRUE[i, ch_idx, 200:1301], signal_comp=DATA_PRED[ch_idx, 200:1301])\n",
    "        isos.append(iso)\n",
    "\n",
    "    return isos\n",
    "\n",
    "\n",
    "ISOS = {i:some_isos(ch_idx=i) for i in (0, 9, 35, 43, 58)}"
   ]
  },
  {
   "cell_type": "code",
   "execution_count": 113,
   "metadata": {},
   "outputs": [],
   "source": [
    "def some_r2s(ch_idx: int):\n",
    "    isos = []\n",
    "    for i in range(DATA_TRUE.shape[0]):  # RNG.integers(0, DATA_TRUE.shape[0], 1000, endpoint=True):\n",
    "        iso = r2_score(y_true=DATA_TRUE[i, ch_idx, 200:1301], y_pred=DATA_PRED[ch_idx, 200:1301])\n",
    "        isos.append(iso)\n",
    "\n",
    "    return isos\n",
    "\n",
    "\n",
    "R2S = {i:some_r2s(ch_idx=i) for i in (0, 9, 35, 43, 58)}"
   ]
  },
  {
   "cell_type": "code",
   "execution_count": null,
   "metadata": {},
   "outputs": [],
   "source": [
    "def some_frechets2(ch_idx: int):\n",
    "    isos = []\n",
    "    for i in range(DATA_TRUE.shape[0]):\n",
    "        iso = fred.discrete_frechet(fred.Curve(DATA_TRUE[i, ch_idx, 200:1301]), fred.Curve(DATA_PRED[ch_idx, 200:1301])).value\n",
    "        isos.append(iso)\n",
    "\n",
    "    return isos\n",
    "\n",
    "\n",
    "FRECHETS = {i:some_frechets2(ch_idx=i) for i in (0, 9, 35, 43, 58)}"
   ]
  },
  {
   "cell_type": "code",
   "execution_count": null,
   "metadata": {},
   "outputs": [],
   "source": [
    "fred.discrete_frechet(fred.Curve(DATA_TRUE[0, 0, 200:1301]), fred.Curve(DATA_PRED[0, 200:1301])).value"
   ]
  },
  {
   "cell_type": "code",
   "execution_count": null,
   "metadata": {},
   "outputs": [],
   "source": [
    "def sampling(ch_idx=0):\n",
    "    da = np.array(\n",
    "        [[sz, np.median(RNG.choice(a=ISOS[ch_idx], size=int(sz), replace=False))] for sz in range(100, len(ISOS[ch_idx]))]\n",
    "    )\n",
    "    fig, ax = plt.subplots(ncols=2, layout=\"constrained\")\n",
    "    fig.suptitle(f\"{ch_idx} - {RATINGS.columns[ch_idx]}\")\n",
    "    ax[0].plot(da[:, 0], np.abs(da[:, 1] - np.median(ISOS[ch_idx])))\n",
    "    ax[0].axhline(0.01, c=\"red\", ls=\"--\", alpha=0.5)\n",
    "    ax[0].set_ylabel(\"|Delta| to Total Median\")\n",
    "    ax[0].set_xlabel(\"n Samples\")\n",
    "\n",
    "    ax[1].plot(da[:, 0], np.abs(da[:, 1] - np.median(R2S[ch_idx])))\n",
    "    ax[1].axhline(np.abs(np.median(ISOS[ch_idx]) - np.median(R2S[ch_idx])), c=\"red\", ls=\"--\", alpha=0.5)\n",
    "\n",
    "\n",
    "[sampling(i) for i in ISOS.keys()]"
   ]
  },
  {
   "cell_type": "code",
   "execution_count": null,
   "metadata": {},
   "outputs": [],
   "source": [
    "for i in tqdm.tqdm(list(range(2000))):\n",
    "    iso = rating_iso_18571_short(signal_ref=DATA_TRUE[i, 0, 200:1301], signal_comp=DATA_PRED[0, 200:1301])"
   ]
  },
  {
   "cell_type": "code",
   "execution_count": null,
   "metadata": {},
   "outputs": [],
   "source": [
    "import time\n",
    "start = start = time.time()\n",
    "_ = rating_iso_18571_short(signal_ref=DATA_TRUE[0, 0, 200:1301], signal_comp=DATA_PRED[0, 200:1301])\n",
    "print(time.time() - start, \"s\")"
   ]
  },
  {
   "cell_type": "code",
   "execution_count": null,
   "metadata": {},
   "outputs": [],
   "source": [
    "def correlations(ch_idx=0):\n",
    "    da = np.array(\n",
    "        [[sz, np.median(RNG.choice(a=ISOS[ch_idx], size=int(sz), replace=False))] for sz in range(100, len(ISOS[ch_idx]))]\n",
    "    )\n",
    "    fig, ax = plt.subplots(ncols=2, layout=\"constrained\")\n",
    "    fig.suptitle(f\"{ch_idx} - {RATINGS.columns[ch_idx]}\")\n",
    "    ax[0].scatter(ISOS[ch_idx], R2S[ch_idx])\n",
    "    ax[0].set_ylabel(\"R2 Score\")\n",
    "    ax[0].set_xlabel(\"ISO18571\")\n",
    "\n",
    "    ax[1].scatter(ISOS[ch_idx], FRECHETS[ch_idx])\n",
    "    ax[1].set_ylabel(\"Frechet Distance\")\n",
    "    ax[1].set_xlabel(\"ISO18571\")\n",
    "\n",
    "correlations()\n",
    "# [correlations(i) for i in ISOS.keys()]"
   ]
  },
  {
   "cell_type": "code",
   "execution_count": null,
   "metadata": {},
   "outputs": [],
   "source": []
  }
 ],
 "metadata": {
  "kernelspec": {
   "display_name": ".venv",
   "language": "python",
   "name": "python3"
  },
  "language_info": {
   "codemirror_mode": {
    "name": "ipython",
    "version": 3
   },
   "file_extension": ".py",
   "mimetype": "text/x-python",
   "name": "python",
   "nbconvert_exporter": "python",
   "pygments_lexer": "ipython3",
   "version": "3.11.0"
  }
 },
 "nbformat": 4,
 "nbformat_minor": 2
}
