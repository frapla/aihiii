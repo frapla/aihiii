{
 "cells": [
  {
   "cell_type": "code",
   "execution_count": null,
   "metadata": {},
   "outputs": [],
   "source": [
    "import json\n",
    "import logging\n",
    "import os\n",
    "import sys\n",
    "from collections import defaultdict\n",
    "from itertools import product\n",
    "from pathlib import Path\n",
    "from typing import Dict, List, Optional\n",
    "\n",
    "import IPython\n",
    "import matplotlib\n",
    "import matplotlib.pyplot as plt\n",
    "import numpy as np\n",
    "import pandas as pd\n",
    "import polars as pl\n",
    "import pyarrow.parquet as pq\n",
    "import seaborn as sns\n",
    "import textalloc as ta\n",
    "from IPython.display import display\n",
    "from sklearn.dummy import DummyClassifier\n",
    "from sklearn.metrics import balanced_accuracy_score, confusion_matrix, f1_score, precision_score, r2_score, recall_score\n",
    "from tqdm import tqdm\n",
    "\n",
    "NOTEBOOK_PATH: Path = Path(IPython.extract_module_locals()[1][\"__vsc_ipynb_file__\"])\n",
    "PROJECT_DIR: Path = NOTEBOOK_PATH.parent.parent\n",
    "sys.path.append(str(PROJECT_DIR))\n",
    "import src.utils.custom_log as custom_log\n",
    "import src.utils.json_util as json_util\n",
    "from src._StandardNames import StandardNames\n",
    "from src.evaluate._Data import Data\n",
    "from src.load.LoadForClassification import RENAMER, LoadForClassification\n",
    "from src.utils.PathChecker import PathChecker\n",
    "from src.utils.Csv import Csv\n",
    "from src.utils.set_rcparams import set_rcparams\n",
    "\n",
    "os.chdir(PROJECT_DIR)\n",
    "set_rcparams()\n",
    "\n",
    "LOG: logging.Logger = logging.getLogger(__name__)\n",
    "custom_log.init_logger(log_lvl=logging.INFO)\n",
    "LOG.info(\"Log start, project directory is %s (exist: %s)\", PROJECT_DIR, PROJECT_DIR.is_dir())\n",
    "\n",
    "CHECK: PathChecker = PathChecker()\n",
    "STR: StandardNames = StandardNames()\n",
    "\n",
    "FIG_DIR: Path = CHECK.check_directory(PROJECT_DIR / \"reports\" / \"figures\", exit=False)\n",
    "FIG_DIR /= NOTEBOOK_PATH.stem\n",
    "FIG_DIR.mkdir(parents=True, exist_ok=True)\n",
    "LOG.info(\"Figure directory is %s (exist: %s)\", FIG_DIR, FIG_DIR.is_dir())\n",
    "\n",
    "EXP_DIR:Path = CHECK.check_directory(PROJECT_DIR /\"experiments\")\n",
    "DIR_SEARCH_STR:str = \"2024-12-*-*-*-*_pure_cnn_95HIII_injury_criteria_from_doe_sobol_20240705_194200\"\n"
   ]
  },
  {
   "cell_type": "code",
   "execution_count": null,
   "metadata": {},
   "outputs": [],
   "source": [
    "sorted([d for d in EXP_DIR.glob(DIR_SEARCH_STR) if d.is_dir()])"
   ]
  },
  {
   "cell_type": "code",
   "execution_count": null,
   "metadata": {},
   "outputs": [],
   "source": [
    "def get_results() -> pd.DataFrame:\n",
    "    results = []\n",
    "    for i, exp_dir in enumerate(sorted([d for d in EXP_DIR.glob(DIR_SEARCH_STR) if d.is_dir()])):\n",
    "        db = Csv(csv_path=exp_dir / STR.fname_results_csv).read().loc[-1]\n",
    "        db.index = [i] * db.shape[0]\n",
    "        db.index.name = \"Repetition\"\n",
    "        db.set_index(\"Data\", append=True, inplace=True)\n",
    "        results.append(db)\n",
    "\n",
    "    results = pd.concat(results)\n",
    "    results = results.sort_index()\n",
    "    return results\n",
    "\n",
    "\n",
    "RESULTS: pd.DataFrame = get_results()\n",
    "RESULTS"
   ]
  },
  {
   "cell_type": "code",
   "execution_count": null,
   "metadata": {},
   "outputs": [],
   "source": [
    "print(\"MEAN\")\n",
    "display(RESULTS.groupby(\"Data\").median().round(4))"
   ]
  },
  {
   "cell_type": "code",
   "execution_count": null,
   "metadata": {},
   "outputs": [],
   "source": [
    "((RESULTS.groupby(\"Data\").max() - RESULTS.groupby(\"Data\").min())/2).round(4)"
   ]
  },
  {
   "cell_type": "code",
   "execution_count": null,
   "metadata": {},
   "outputs": [],
   "source": [
    "((RESULTS.groupby(\"Data\").max() - RESULTS.groupby(\"Data\").min())/2).round(4).median(axis=1)"
   ]
  },
  {
   "cell_type": "code",
   "execution_count": null,
   "metadata": {},
   "outputs": [],
   "source": [
    "(RESULTS.groupby(\"Data\").min()+(RESULTS.groupby(\"Data\").max() - RESULTS.groupby(\"Data\").min())/2).round(4)"
   ]
  },
  {
   "cell_type": "code",
   "execution_count": null,
   "metadata": {},
   "outputs": [],
   "source": [
    "(RESULTS.groupby(\"Data\").min()+(RESULTS.groupby(\"Data\").max() - RESULTS.groupby(\"Data\").min())/2).round(4).median(axis=1)"
   ]
  },
  {
   "cell_type": "code",
   "execution_count": null,
   "metadata": {},
   "outputs": [],
   "source": [
    "db_5 = Csv(csv_path=PROJECT_DIR / \"experiments\"/\"2024-12-04-12-45-14_pure_cnn_05HIII_injury_criteria_from_doe_sobol_20240705_194200\" / STR.fname_results_csv).read().loc[-1].set_index(\"Data\")\n",
    "db_5.round(2)"
   ]
  },
  {
   "cell_type": "code",
   "execution_count": null,
   "metadata": {},
   "outputs": [],
   "source": [
    "display((db_5.loc[\"Train\"] - db_5.loc[\"Test\"]).round(3))\n",
    "((db_5.loc[\"Train\"] - db_5.loc[\"Test\"]).round(3)).max()"
   ]
  },
  {
   "cell_type": "code",
   "execution_count": null,
   "metadata": {},
   "outputs": [],
   "source": [
    "display((RESULTS.loc[(slice(None), \"Train\"), :].droplevel(\"Data\") - RESULTS.loc[(slice(None), \"Test\"), :].droplevel(\"Data\")).round(3))\n",
    "(RESULTS.loc[(slice(None), \"Train\"), :].droplevel(\"Data\") - RESULTS.loc[(slice(None), \"Test\"), :].droplevel(\"Data\")).round(3).max().max()"
   ]
  },
  {
   "cell_type": "code",
   "execution_count": null,
   "metadata": {},
   "outputs": [],
   "source": [
    "def get_classification_results() -> pd.DataFrame:\n",
    "    search_str = \"2024-12-0*-*-*-*_pure_cnn_*HIII_injury_criteria_classes_*_from_doe_sobol_20240705_194200\"\n",
    "    results = []\n",
    "    for exp_dir in EXP_DIR.glob(search_str):\n",
    "        db = Csv(csv_path=exp_dir / STR.fname_results_csv).read(index_cols=[0,1,2])\n",
    "        db[\"Median\"] = db.median(axis=1)\n",
    "        db = db.loc[(slice(None), -1, slice(None)), :].copy().droplevel(\"Fold\")\n",
    "        db[\"Classes\"] = int(exp_dir.stem.split(\"_\")[-6])\n",
    "        db[STR.perc] = int(exp_dir.stem.split(\"_\")[3][:2])\n",
    "        db.set_index([\"Classes\", STR.perc], append=True, inplace=True)\n",
    "        results.append(db)\n",
    "    \n",
    "    return pd.concat(results).sort_index()\n",
    "\n",
    "CLASS_RESULTS = get_classification_results()\n",
    "CLASS_RESULTS"
   ]
  },
  {
   "cell_type": "code",
   "execution_count": null,
   "metadata": {},
   "outputs": [],
   "source": [
    "CLASS_RESULTS.loc[(slice(None), \"Test\", 5, 95), :]"
   ]
  },
  {
   "cell_type": "code",
   "execution_count": null,
   "metadata": {},
   "outputs": [],
   "source": [
    "CLASS_RESULTS.groupby([\"Classes\", STR.perc, \"Data\"]).min().round(2).reset_index().set_index(\n",
    "    [\"Classes\", \"PERC\", \"Data\"]\n",
    ").unstack(\"Classes\").T.loc[\n",
    "    (\n",
    "        [\n",
    "            \"Head_HIC15\",\n",
    "            \"Head_a3ms\",\n",
    "            \"Neck_My_Extension\",\n",
    "            \"Neck_Fz_Max_Tension\",\n",
    "            \"Neck_Fx_Shear_Max\",\n",
    "            \"Chest_Deflection\",\n",
    "            \"Chest_VC\",\n",
    "            \"Femur_Fz_Max_Compression\",\n",
    "            \"Median\",\n",
    "        ],\n",
    "        slice(None),\n",
    "    ),\n",
    "]"
   ]
  },
  {
   "cell_type": "code",
   "execution_count": null,
   "metadata": {},
   "outputs": [],
   "source": [
    "def get_channel_results() -> pd.DataFrame:\n",
    "    search_str = \"2024-12-*-*-*-*_pure_cnn_*HIII_channels_from_doe_sobol_20240705_194200\"\n",
    "    results = []\n",
    "    for exp_dir in EXP_DIR.glob(search_str):\n",
    "        db = Csv(csv_path=exp_dir / STR.fname_results_csv).read().loc[-1]\n",
    "        db[STR.perc] = int(exp_dir.stem.split(\"_\")[3][:2])\n",
    "        db.set_index([\"Data\", STR.perc], inplace=True)\n",
    "        results.append(db)\n",
    "    \n",
    "    return pd.concat(results).sort_index()\n",
    "\n",
    "CH_RESULTS = get_channel_results()\n",
    "CH_RESULTS\n"
   ]
  },
  {
   "cell_type": "code",
   "execution_count": null,
   "metadata": {},
   "outputs": [],
   "source": [
    "CH_RESULTS.T.round(2).loc[\n",
    "    [\n",
    "        \"03HEAD0000OCCUACRD\",\n",
    "        \"03CHST0000OCCUACRD\",\n",
    "        \"03CHST0000OCCUDSXD\",\n",
    "        \"03NECKUP00OCCUMOYD\",\n",
    "        \"03NECKUP00OCCUFOZD\",\n",
    "        \"03NECKUP00OCCUFOXD\",\n",
    "        \"03FEMRLE00OCCUFOZD\",\n",
    "        \"03FEMRLE00OCCUFOZD\",\n",
    "    ]\n",
    "]"
   ]
  },
  {
   "cell_type": "code",
   "execution_count": null,
   "metadata": {},
   "outputs": [],
   "source": []
  }
 ],
 "metadata": {
  "kernelspec": {
   "display_name": ".venv",
   "language": "python",
   "name": "python3"
  },
  "language_info": {
   "codemirror_mode": {
    "name": "ipython",
    "version": 3
   },
   "file_extension": ".py",
   "mimetype": "text/x-python",
   "name": "python",
   "nbconvert_exporter": "python",
   "pygments_lexer": "ipython3",
   "version": "3.11.0rc1"
  }
 },
 "nbformat": 4,
 "nbformat_minor": 2
}
