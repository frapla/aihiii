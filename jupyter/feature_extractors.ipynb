{
 "cells": [
  {
   "cell_type": "code",
   "execution_count": 37,
   "metadata": {},
   "outputs": [],
   "source": [
    "import pandas as pd\n",
    "import sktime\n",
    "from pathlib import Path\n",
    "import numpy as np\n",
    "from sklearn.preprocessing import RobustScaler"
   ]
  },
  {
   "cell_type": "code",
   "execution_count": null,
   "metadata": {},
   "outputs": [],
   "source": [
    "D_PATH = Path(\"/root\") / \"py_projects\"/ \"aihiii\" / \"data\" / \"doe\" / \"doe_sobol_test_20240829_135200\"\n",
    "CH_PATH = D_PATH / \"channels.parquet\"\n",
    "CH_PATH.is_file()"
   ]
  },
  {
   "cell_type": "code",
   "execution_count": null,
   "metadata": {},
   "outputs": [],
   "source": [
    "DB = pd.read_parquet(CH_PATH, filters=[(\"PERC\", \"in\", [5]), (\"ID\", \"in\", [0,2,4])]).droplevel(\"PERC\").sort_index()\n",
    "DB = np.array(np.split(DB.values, 1401, axis=0)).transpose(1, 2, 0)\n",
    "DB.shape"
   ]
  },
  {
   "cell_type": "code",
   "execution_count": null,
   "metadata": {},
   "outputs": [],
   "source": [
    "# needs fit: from sktime.transformations.panel.shapelet_transform import ShapeletTransform, RandomShapeletTransform\n",
    "from sktime.transformations.panel.tsfresh import TSFreshFeatureExtractor # requires cleaning\n",
    "#from sktime.transformations.series.binning import TimeBinAggregate\n",
    "from sktime.transformations.panel.rocket import MiniRocketMultivariate, Rocket\n",
    "from sktime.transformations.panel.catch22 import Catch22\n",
    "# wrong python: from sktime.transformations.panel.signature_based import SignatureTransformer\n",
    "\n",
    "\n",
    "trans = Catch22()\n",
    "trans.fit_transform(DB)"
   ]
  },
  {
   "cell_type": "code",
   "execution_count": null,
   "metadata": {},
   "outputs": [],
   "source": []
  }
 ],
 "metadata": {
  "kernelspec": {
   "display_name": ".venv",
   "language": "python",
   "name": "python3"
  },
  "language_info": {
   "codemirror_mode": {
    "name": "ipython",
    "version": 3
   },
   "file_extension": ".py",
   "mimetype": "text/x-python",
   "name": "python",
   "nbconvert_exporter": "python",
   "pygments_lexer": "ipython3",
   "version": "3.11.0"
  }
 },
 "nbformat": 4,
 "nbformat_minor": 2
}
