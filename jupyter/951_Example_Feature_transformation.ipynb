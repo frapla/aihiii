{
 "cells": [
  {
   "cell_type": "code",
   "execution_count": null,
   "metadata": {},
   "outputs": [],
   "source": [
    "import sys\n",
    "import os\n",
    "import pandas as pd\n",
    "import numpy as np\n",
    "import matplotlib.pyplot as plt\n",
    "import seaborn as sns\n",
    "from pathlib import Path\n",
    "import IPython\n",
    "from typing import List, Tuple, Dict, Any\n",
    "import textalloc as ta\n",
    "import logging\n",
    "\n",
    "notebook_path = Path(IPython.extract_module_locals()[1][\"__vsc_ipynb_file__\"])\n",
    "project_dir = notebook_path.parent.parent\n",
    "sys.path.append(str(project_dir))\n",
    "import src.utils.custom_log as custom_log\n",
    "from src.utils.set_rcparams import set_rcparams\n",
    "\n",
    "os.chdir(project_dir)\n",
    "LOG = logging.getLogger(__name__)\n",
    "custom_log.init_logger(log_lvl=logging.INFO)\n",
    "\n",
    "READ_NEW = False\n",
    "LOG.info(\"Log initialized - Read New %s\", READ_NEW)\n",
    "\n",
    "set_rcparams()"
   ]
  },
  {
   "cell_type": "code",
   "execution_count": 2,
   "metadata": {},
   "outputs": [],
   "source": [
    "FULL_WIDTH: float = 448.13095 / 72"
   ]
  },
  {
   "cell_type": "code",
   "execution_count": null,
   "metadata": {},
   "outputs": [],
   "source": [
    "FIG_PATH:Path = project_dir / \"reports\" / \"figures\" / notebook_path.stem\n",
    "FIG_PATH.mkdir(parents=True, exist_ok=True)\n",
    "LOG.info(\"Figure path: %s\", FIG_PATH)"
   ]
  },
  {
   "cell_type": "code",
   "execution_count": null,
   "metadata": {},
   "outputs": [],
   "source": [
    "def plot_upscale():\n",
    "    rng = np.random.RandomState(42)\n",
    "    jt = 0.05\n",
    "\n",
    "    # data transform\n",
    "    a = np.arange(-5, 5.1, 0.1)\n",
    "    a += 2 * rng.normal(0, 0.1, len(a))\n",
    "    b = a**2 + 3 + 10 * rng.normal(0, 0.1, len(a))\n",
    "    c = a**2\n",
    "\n",
    "    # data upscale\n",
    "    theta = np.linspace(0, 2 * np.pi, 100)\n",
    "    r = np.sqrt(0.6)\n",
    "    s = 3\n",
    "    x1 = r * np.cos(theta) + jt * rng.normal(0, 1, len(theta))\n",
    "    x2 = r * np.sin(theta) + jt * rng.normal(0, 1, len(theta))\n",
    "    x3 = jt * rng.normal(0, 1, len(theta))\n",
    "    x4 = jt * rng.normal(0, 1, len(theta))\n",
    "\n",
    "    # prepare plot\n",
    "    cs = sns.color_palette(\"colorblind\")\n",
    "    fields = [[\"lin\", \"cat_raw\"], [\"lin\", \"cat_trans\"]]\n",
    "    fig, ax = plt.subplot_mosaic(fields, figsize=(FULL_WIDTH, 0.35 * FULL_WIDTH))\n",
    "\n",
    "    # lin\n",
    "    ax[\"lin\"].scatter(a, b, label=\"Original\", c=cs[0], s=s)\n",
    "    ax[\"lin\"].scatter(c, b, label=\"Transformed\", c=cs[1], s=s)\n",
    "    # ax[\"lin\"].set_xlabel(\"$\\chi_1$, $\\chi_1$\\'\")\n",
    "    ax[\"lin\"].text(0.45, -0.2, \"$^1 \\chi$\", color=cs[0], transform=ax[\"lin\"].transAxes)#, rotation='vertical', transform=ax[\"lin\"].transAxes)\n",
    "    ax[\"lin\"].text(0.55, -0.2, r\"$^1 \\breve \\chi$\", color=cs[1], transform=ax[\"lin\"].transAxes)#, rotation='vertical', transform=ax[\"lin\"].transAxes)\n",
    "    ax[\"lin\"].set_ylabel(\"$^2 \\chi$\")\n",
    "    ax[\"lin\"].set_xticklabels([])\n",
    "    ax[\"lin\"].set_yticklabels([])\n",
    "    ax[\"lin\"].legend()\n",
    "    ax[\"lin\"].set_title(\"Linearization\")\n",
    "\n",
    "    # raw cat\n",
    "    ax[\"cat_raw\"].scatter(x1, x2, c=cs[3], s=s)\n",
    "    ax[\"cat_raw\"].scatter(x1, x4, c=cs[4], s=s)\n",
    "    ax[\"cat_raw\"].set_xticklabels([])\n",
    "    ax[\"cat_raw\"].set_yticklabels([])\n",
    "    #ax[\"cat_raw\"].set_ylabel(\"$\\chi_4$, $\\chi_5$\")\n",
    "    ax[\"cat_raw\"].text(-0.1, 0.2, \"$^4 \\chi$\", color=cs[3], rotation='vertical', transform=ax[\"cat_raw\"].transAxes)\n",
    "    ax[\"cat_raw\"].text(-0.1, 0.7, \"$^5 \\chi$\", color=cs[4], rotation='vertical', transform=ax[\"cat_raw\"].transAxes)\n",
    "    ax[\"cat_raw\"].set_title(\"Original - Not Linear Separable\")\n",
    "\n",
    "    # trans cat\n",
    "    ax[\"cat_trans\"].scatter(x1, x1**2 + x2**2, c=cs[3], s=s, label=\"Class 1\")\n",
    "    # ax[\"cat_trans\"].scatter(x3, x3**2+x4**2, c=cs[4], s=s, label='Class 2')\n",
    "    ax[\"cat_trans\"].scatter(x1, x4, c=cs[4], s=s, label=\"Class 2\")\n",
    "    ax[\"cat_trans\"].set_xticklabels([])\n",
    "    ax[\"cat_trans\"].set_yticklabels([])\n",
    "    ax[\"cat_trans\"].set_xlabel(\"$^3 \\chi$\")\n",
    "    # ax[\"cat_trans\"].set_ylabel(\"$\\chi_4$\\', $\\chi_5$\")\n",
    "    ax[\"cat_trans\"].text(-0.1, 0.2, r\"$^4 \\breve \\chi$\", color=cs[3], rotation='vertical', transform=ax[\"cat_trans\"].transAxes)\n",
    "    ax[\"cat_trans\"].text(-0.1, 0.7, \"$^5 \\chi$\", color=cs[4], rotation='vertical', transform=ax[\"cat_trans\"].transAxes)\n",
    "    ax[\"cat_trans\"].set_title(\"Transformed - Linear Separable\")\n",
    "    ax[\"cat_trans\"].legend(loc=4, facecolor=\"white\", framealpha=1, frameon=True, edgecolor=\"white\")\n",
    "\n",
    "    fig.tight_layout()\n",
    "    fig.subplots_adjust(wspace=0.3)\n",
    "    fig.savefig(FIG_PATH / \"transformations.pdf\")\n",
    "\n",
    "\n",
    "plot_upscale()"
   ]
  },
  {
   "cell_type": "code",
   "execution_count": null,
   "metadata": {},
   "outputs": [],
   "source": []
  }
 ],
 "metadata": {
  "kernelspec": {
   "display_name": ".venv",
   "language": "python",
   "name": "python3"
  },
  "language_info": {
   "codemirror_mode": {
    "name": "ipython",
    "version": 3
   },
   "file_extension": ".py",
   "mimetype": "text/x-python",
   "name": "python",
   "nbconvert_exporter": "python",
   "pygments_lexer": "ipython3",
   "version": "3.11.0rc1"
  }
 },
 "nbformat": 4,
 "nbformat_minor": 2
}
